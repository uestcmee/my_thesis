{
 "cells": [
  {
   "cell_type": "markdown",
   "metadata": {},
   "source": [
    "# 主要的文件\n",
    "# TODO 把时间处理之后统一成一种，比如统一成:日期表示当日收盘前的情况\n",
    "eg.现在写的2020.5.21，发布时间为当日收盘后，则改为2020.5.22"
   ]
  },
  {
   "cell_type": "code",
   "execution_count": 1,
   "metadata": {},
   "outputs": [],
   "source": [
    "import pandas as pd\n",
    "import numpy as np\n",
    "import datetime\n",
    "import matplotlib.pyplot as plt\n",
    "import seaborn as sns\n",
    "plt.rcParams['font.sans-serif'] = ['SimHei']\n",
    "plt.rcParams['axes.unicode_minus'] = False"
   ]
  },
  {
   "cell_type": "code",
   "execution_count": null,
   "metadata": {},
   "outputs": [],
   "source": []
  },
  {
   "cell_type": "code",
   "execution_count": 2,
   "metadata": {},
   "outputs": [],
   "source": [
    "input_path='./01_数据input/'"
   ]
  },
  {
   "cell_type": "code",
   "execution_count": 3,
   "metadata": {},
   "outputs": [],
   "source": [
    "df_all=pd.read_excel(input_path+'各类货币政策!_预处理后.xls',index_col=0).iloc[3:-2]\n",
    "df_all.index=pd.DatetimeIndex(df_all.index)\n",
    "df_all=df_all['2010':]\n",
    "df_all;"
   ]
  },
  {
   "cell_type": "code",
   "execution_count": 4,
   "metadata": {},
   "outputs": [],
   "source": [
    "lr=df_all.iloc[:,1:2].dropna()\n",
    "lr-lr.shift(1);"
   ]
  },
  {
   "cell_type": "code",
   "execution_count": 5,
   "metadata": {},
   "outputs": [],
   "source": [
    "df_all['人民币存款准备金率:中小型存款类金融机构(变动日期)'].dropna();"
   ]
  },
  {
   "cell_type": "code",
   "execution_count": 6,
   "metadata": {},
   "outputs": [],
   "source": [
    "def drop_repeat(one_col):\n",
    "    one_col=df_all[col].dropna()\n",
    "    need=one_col[one_col!=one_col.shift(1)]\n",
    "    return need"
   ]
  },
  {
   "cell_type": "code",
   "execution_count": 7,
   "metadata": {},
   "outputs": [],
   "source": [
    "dic={}\n",
    "for col in df_all.columns[1:-1]:\n",
    "    a=df_all[col].dropna()  # 去掉空行\n",
    "    a=drop_repeat(a)\n",
    "    if len(a)==0:\n",
    "        continue# 去掉无数据的指标\n",
    "    dic[col]=a\n",
    "# dic"
   ]
  },
  {
   "cell_type": "code",
   "execution_count": 8,
   "metadata": {},
   "outputs": [
    {
     "data": {
      "text/plain": [
       "dict_keys(['定期存款利率:1年(整存整取)', '短期贷款利率:6个月至1年(含)', '人民银行对金融机构存款利率:超额准备金', '贷款市场报价利率(LPR):1年', '贷款市场报价利率(LPR):5年', '人民币存款准备金率:中小型存款类金融机构(变动日期)', '人民币存款准备金率:大型存款类金融机构(变动日期)', '逆回购利率:7天', '逆回购利率:14天', '逆回购利率:28天', '逆回购利率:63天', '逆回购利率:21天', '常备借贷便利(SLF)利率:隔夜', '常备借贷便利(SLF)利率:7天', '常备借贷便利(SLF)利率:1个月', 'SLO投放利率', 'SLO回笼利率', '中期借贷便利(MLF):利率:3个月', '中期借贷便利(MLF):利率:6个月', '中期借贷便利(MLF):利率:1年', '定向中期借贷便利(TMLF):利率', '央行票据:发行利率:3个月', '央行票据:发行利率:1年期', '央行票据:发行利率:3年期'])"
      ]
     },
     "execution_count": 8,
     "metadata": {},
     "output_type": "execute_result"
    }
   ],
   "source": [
    "dic.keys()"
   ]
  },
  {
   "cell_type": "code",
   "execution_count": 9,
   "metadata": {},
   "outputs": [
    {
     "data": {
      "text/html": [
       "<div>\n",
       "<style scoped>\n",
       "    .dataframe tbody tr th:only-of-type {\n",
       "        vertical-align: middle;\n",
       "    }\n",
       "\n",
       "    .dataframe tbody tr th {\n",
       "        vertical-align: top;\n",
       "    }\n",
       "\n",
       "    .dataframe thead th {\n",
       "        text-align: right;\n",
       "    }\n",
       "</style>\n",
       "<table border=\"1\" class=\"dataframe\">\n",
       "  <thead>\n",
       "    <tr style=\"text-align: right;\">\n",
       "      <th></th>\n",
       "      <th>0</th>\n",
       "      <th>1</th>\n",
       "      <th>2</th>\n",
       "      <th>3</th>\n",
       "      <th>4</th>\n",
       "      <th>5</th>\n",
       "      <th>6</th>\n",
       "      <th>7</th>\n",
       "      <th>8</th>\n",
       "      <th>9</th>\n",
       "      <th>...</th>\n",
       "      <th>19</th>\n",
       "      <th>20</th>\n",
       "      <th>21</th>\n",
       "      <th>22</th>\n",
       "      <th>23</th>\n",
       "      <th>24</th>\n",
       "      <th>25</th>\n",
       "      <th>26</th>\n",
       "      <th>27</th>\n",
       "      <th>28</th>\n",
       "    </tr>\n",
       "  </thead>\n",
       "  <tbody>\n",
       "    <tr>\n",
       "      <th>0</th>\n",
       "      <td>2010-10-20</td>\n",
       "      <td>2010-12-26</td>\n",
       "      <td>2011-02-09</td>\n",
       "      <td>2011-04-06</td>\n",
       "      <td>2011-07-07</td>\n",
       "      <td>2012-06-08</td>\n",
       "      <td>2012-07-06</td>\n",
       "      <td>2014-11-22</td>\n",
       "      <td>2015-03-01</td>\n",
       "      <td>2015-05-11</td>\n",
       "      <td>...</td>\n",
       "      <td>NaT</td>\n",
       "      <td>NaT</td>\n",
       "      <td>NaT</td>\n",
       "      <td>NaT</td>\n",
       "      <td>NaT</td>\n",
       "      <td>NaT</td>\n",
       "      <td>NaT</td>\n",
       "      <td>NaT</td>\n",
       "      <td>NaT</td>\n",
       "      <td>NaT</td>\n",
       "    </tr>\n",
       "    <tr>\n",
       "      <th>1</th>\n",
       "      <td>2010-10-20</td>\n",
       "      <td>2010-12-26</td>\n",
       "      <td>2011-02-09</td>\n",
       "      <td>2011-04-06</td>\n",
       "      <td>2011-07-07</td>\n",
       "      <td>2012-06-08</td>\n",
       "      <td>2012-07-06</td>\n",
       "      <td>2014-11-22</td>\n",
       "      <td>2015-03-01</td>\n",
       "      <td>2015-05-11</td>\n",
       "      <td>...</td>\n",
       "      <td>NaT</td>\n",
       "      <td>NaT</td>\n",
       "      <td>NaT</td>\n",
       "      <td>NaT</td>\n",
       "      <td>NaT</td>\n",
       "      <td>NaT</td>\n",
       "      <td>NaT</td>\n",
       "      <td>NaT</td>\n",
       "      <td>NaT</td>\n",
       "      <td>NaT</td>\n",
       "    </tr>\n",
       "    <tr>\n",
       "      <th>2</th>\n",
       "      <td>2020-04-07</td>\n",
       "      <td>NaT</td>\n",
       "      <td>NaT</td>\n",
       "      <td>NaT</td>\n",
       "      <td>NaT</td>\n",
       "      <td>NaT</td>\n",
       "      <td>NaT</td>\n",
       "      <td>NaT</td>\n",
       "      <td>NaT</td>\n",
       "      <td>NaT</td>\n",
       "      <td>...</td>\n",
       "      <td>NaT</td>\n",
       "      <td>NaT</td>\n",
       "      <td>NaT</td>\n",
       "      <td>NaT</td>\n",
       "      <td>NaT</td>\n",
       "      <td>NaT</td>\n",
       "      <td>NaT</td>\n",
       "      <td>NaT</td>\n",
       "      <td>NaT</td>\n",
       "      <td>NaT</td>\n",
       "    </tr>\n",
       "    <tr>\n",
       "      <th>3</th>\n",
       "      <td>2013-10-25</td>\n",
       "      <td>2013-10-28</td>\n",
       "      <td>2013-11-19</td>\n",
       "      <td>2014-02-13</td>\n",
       "      <td>2014-02-14</td>\n",
       "      <td>2014-04-01</td>\n",
       "      <td>2014-06-17</td>\n",
       "      <td>2014-11-24</td>\n",
       "      <td>2014-11-27</td>\n",
       "      <td>2014-11-28</td>\n",
       "      <td>...</td>\n",
       "      <td>2020-02-20</td>\n",
       "      <td>2020-04-20</td>\n",
       "      <td>NaT</td>\n",
       "      <td>NaT</td>\n",
       "      <td>NaT</td>\n",
       "      <td>NaT</td>\n",
       "      <td>NaT</td>\n",
       "      <td>NaT</td>\n",
       "      <td>NaT</td>\n",
       "      <td>NaT</td>\n",
       "    </tr>\n",
       "    <tr>\n",
       "      <th>4</th>\n",
       "      <td>2019-08-20</td>\n",
       "      <td>2019-11-20</td>\n",
       "      <td>2020-02-20</td>\n",
       "      <td>2020-04-20</td>\n",
       "      <td>NaT</td>\n",
       "      <td>NaT</td>\n",
       "      <td>NaT</td>\n",
       "      <td>NaT</td>\n",
       "      <td>NaT</td>\n",
       "      <td>NaT</td>\n",
       "      <td>...</td>\n",
       "      <td>NaT</td>\n",
       "      <td>NaT</td>\n",
       "      <td>NaT</td>\n",
       "      <td>NaT</td>\n",
       "      <td>NaT</td>\n",
       "      <td>NaT</td>\n",
       "      <td>NaT</td>\n",
       "      <td>NaT</td>\n",
       "      <td>NaT</td>\n",
       "      <td>NaT</td>\n",
       "    </tr>\n",
       "    <tr>\n",
       "      <th>5</th>\n",
       "      <td>2010-01-18</td>\n",
       "      <td>2010-02-25</td>\n",
       "      <td>2010-05-10</td>\n",
       "      <td>2010-11-16</td>\n",
       "      <td>2010-11-29</td>\n",
       "      <td>2010-12-20</td>\n",
       "      <td>2011-01-20</td>\n",
       "      <td>2011-02-24</td>\n",
       "      <td>2011-03-25</td>\n",
       "      <td>2011-04-21</td>\n",
       "      <td>...</td>\n",
       "      <td>2016-03-01</td>\n",
       "      <td>2018-04-25</td>\n",
       "      <td>2018-07-05</td>\n",
       "      <td>2018-10-15</td>\n",
       "      <td>2019-01-15</td>\n",
       "      <td>2019-01-25</td>\n",
       "      <td>2019-09-16</td>\n",
       "      <td>2020-01-06</td>\n",
       "      <td>2020-04-15</td>\n",
       "      <td>2020-05-15</td>\n",
       "    </tr>\n",
       "    <tr>\n",
       "      <th>6</th>\n",
       "      <td>2010-01-18</td>\n",
       "      <td>2010-02-25</td>\n",
       "      <td>2010-05-10</td>\n",
       "      <td>2010-11-16</td>\n",
       "      <td>2010-11-29</td>\n",
       "      <td>2010-12-20</td>\n",
       "      <td>2011-01-20</td>\n",
       "      <td>2011-02-24</td>\n",
       "      <td>2011-03-25</td>\n",
       "      <td>2011-04-21</td>\n",
       "      <td>...</td>\n",
       "      <td>2016-03-01</td>\n",
       "      <td>2018-04-25</td>\n",
       "      <td>2018-07-05</td>\n",
       "      <td>2018-10-15</td>\n",
       "      <td>2019-01-15</td>\n",
       "      <td>2019-01-25</td>\n",
       "      <td>2019-09-16</td>\n",
       "      <td>2020-01-06</td>\n",
       "      <td>NaT</td>\n",
       "      <td>NaT</td>\n",
       "    </tr>\n",
       "    <tr>\n",
       "      <th>7</th>\n",
       "      <td>2012-05-03</td>\n",
       "      <td>2012-05-10</td>\n",
       "      <td>2012-07-03</td>\n",
       "      <td>2012-07-05</td>\n",
       "      <td>2012-07-10</td>\n",
       "      <td>2012-07-19</td>\n",
       "      <td>2012-08-21</td>\n",
       "      <td>2012-09-06</td>\n",
       "      <td>2013-07-30</td>\n",
       "      <td>2013-08-06</td>\n",
       "      <td>...</td>\n",
       "      <td>2015-06-30</td>\n",
       "      <td>2015-08-27</td>\n",
       "      <td>2015-10-27</td>\n",
       "      <td>2017-02-03</td>\n",
       "      <td>2017-03-16</td>\n",
       "      <td>2017-12-14</td>\n",
       "      <td>2018-03-22</td>\n",
       "      <td>2019-11-18</td>\n",
       "      <td>2020-02-03</td>\n",
       "      <td>2020-03-30</td>\n",
       "    </tr>\n",
       "    <tr>\n",
       "      <th>8</th>\n",
       "      <td>2012-01-17</td>\n",
       "      <td>2012-01-19</td>\n",
       "      <td>2012-06-26</td>\n",
       "      <td>2012-06-28</td>\n",
       "      <td>2012-07-03</td>\n",
       "      <td>2012-07-05</td>\n",
       "      <td>2012-08-16</td>\n",
       "      <td>2012-08-28</td>\n",
       "      <td>2012-09-04</td>\n",
       "      <td>2012-09-11</td>\n",
       "      <td>...</td>\n",
       "      <td>2018-04-16</td>\n",
       "      <td>2019-12-18</td>\n",
       "      <td>2020-02-03</td>\n",
       "      <td>2020-06-18</td>\n",
       "      <td>NaT</td>\n",
       "      <td>NaT</td>\n",
       "      <td>NaT</td>\n",
       "      <td>NaT</td>\n",
       "      <td>NaT</td>\n",
       "      <td>NaT</td>\n",
       "    </tr>\n",
       "    <tr>\n",
       "      <th>9</th>\n",
       "      <td>2012-09-13</td>\n",
       "      <td>2015-01-27</td>\n",
       "      <td>2016-01-19</td>\n",
       "      <td>2016-09-13</td>\n",
       "      <td>2017-02-03</td>\n",
       "      <td>2017-03-16</td>\n",
       "      <td>2017-12-14</td>\n",
       "      <td>2018-05-28</td>\n",
       "      <td>NaT</td>\n",
       "      <td>NaT</td>\n",
       "      <td>...</td>\n",
       "      <td>NaT</td>\n",
       "      <td>NaT</td>\n",
       "      <td>NaT</td>\n",
       "      <td>NaT</td>\n",
       "      <td>NaT</td>\n",
       "      <td>NaT</td>\n",
       "      <td>NaT</td>\n",
       "      <td>NaT</td>\n",
       "      <td>NaT</td>\n",
       "      <td>NaT</td>\n",
       "    </tr>\n",
       "    <tr>\n",
       "      <th>10</th>\n",
       "      <td>2017-10-27</td>\n",
       "      <td>2018-01-16</td>\n",
       "      <td>NaT</td>\n",
       "      <td>NaT</td>\n",
       "      <td>NaT</td>\n",
       "      <td>NaT</td>\n",
       "      <td>NaT</td>\n",
       "      <td>NaT</td>\n",
       "      <td>NaT</td>\n",
       "      <td>NaT</td>\n",
       "      <td>...</td>\n",
       "      <td>NaT</td>\n",
       "      <td>NaT</td>\n",
       "      <td>NaT</td>\n",
       "      <td>NaT</td>\n",
       "      <td>NaT</td>\n",
       "      <td>NaT</td>\n",
       "      <td>NaT</td>\n",
       "      <td>NaT</td>\n",
       "      <td>NaT</td>\n",
       "      <td>NaT</td>\n",
       "    </tr>\n",
       "    <tr>\n",
       "      <th>11</th>\n",
       "      <td>2014-01-21</td>\n",
       "      <td>2015-02-10</td>\n",
       "      <td>NaT</td>\n",
       "      <td>NaT</td>\n",
       "      <td>NaT</td>\n",
       "      <td>NaT</td>\n",
       "      <td>NaT</td>\n",
       "      <td>NaT</td>\n",
       "      <td>NaT</td>\n",
       "      <td>NaT</td>\n",
       "      <td>...</td>\n",
       "      <td>NaT</td>\n",
       "      <td>NaT</td>\n",
       "      <td>NaT</td>\n",
       "      <td>NaT</td>\n",
       "      <td>NaT</td>\n",
       "      <td>NaT</td>\n",
       "      <td>NaT</td>\n",
       "      <td>NaT</td>\n",
       "      <td>NaT</td>\n",
       "      <td>NaT</td>\n",
       "    </tr>\n",
       "    <tr>\n",
       "      <th>12</th>\n",
       "      <td>2014-01-20</td>\n",
       "      <td>2015-03-04</td>\n",
       "      <td>2015-11-20</td>\n",
       "      <td>2017-02-03</td>\n",
       "      <td>2017-03-16</td>\n",
       "      <td>2017-12-14</td>\n",
       "      <td>2018-03-22</td>\n",
       "      <td>2019-12-31</td>\n",
       "      <td>2020-04-10</td>\n",
       "      <td>NaT</td>\n",
       "      <td>...</td>\n",
       "      <td>NaT</td>\n",
       "      <td>NaT</td>\n",
       "      <td>NaT</td>\n",
       "      <td>NaT</td>\n",
       "      <td>NaT</td>\n",
       "      <td>NaT</td>\n",
       "      <td>NaT</td>\n",
       "      <td>NaT</td>\n",
       "      <td>NaT</td>\n",
       "      <td>NaT</td>\n",
       "    </tr>\n",
       "    <tr>\n",
       "      <th>13</th>\n",
       "      <td>2014-01-20</td>\n",
       "      <td>2015-03-04</td>\n",
       "      <td>2015-11-20</td>\n",
       "      <td>2017-02-03</td>\n",
       "      <td>2017-03-16</td>\n",
       "      <td>2017-12-14</td>\n",
       "      <td>2018-03-22</td>\n",
       "      <td>2019-12-31</td>\n",
       "      <td>2020-04-10</td>\n",
       "      <td>NaT</td>\n",
       "      <td>...</td>\n",
       "      <td>NaT</td>\n",
       "      <td>NaT</td>\n",
       "      <td>NaT</td>\n",
       "      <td>NaT</td>\n",
       "      <td>NaT</td>\n",
       "      <td>NaT</td>\n",
       "      <td>NaT</td>\n",
       "      <td>NaT</td>\n",
       "      <td>NaT</td>\n",
       "      <td>NaT</td>\n",
       "    </tr>\n",
       "    <tr>\n",
       "      <th>14</th>\n",
       "      <td>2016-02-01</td>\n",
       "      <td>2017-02-03</td>\n",
       "      <td>2017-03-16</td>\n",
       "      <td>2017-12-14</td>\n",
       "      <td>2018-03-22</td>\n",
       "      <td>2019-12-31</td>\n",
       "      <td>2020-04-10</td>\n",
       "      <td>NaT</td>\n",
       "      <td>NaT</td>\n",
       "      <td>NaT</td>\n",
       "      <td>...</td>\n",
       "      <td>NaT</td>\n",
       "      <td>NaT</td>\n",
       "      <td>NaT</td>\n",
       "      <td>NaT</td>\n",
       "      <td>NaT</td>\n",
       "      <td>NaT</td>\n",
       "      <td>NaT</td>\n",
       "      <td>NaT</td>\n",
       "      <td>NaT</td>\n",
       "      <td>NaT</td>\n",
       "    </tr>\n",
       "    <tr>\n",
       "      <th>15</th>\n",
       "      <td>2013-10-28</td>\n",
       "      <td>2013-11-18</td>\n",
       "      <td>2013-12-18</td>\n",
       "      <td>2013-12-19</td>\n",
       "      <td>2013-12-23</td>\n",
       "      <td>2013-12-24</td>\n",
       "      <td>2014-11-20</td>\n",
       "      <td>2014-11-21</td>\n",
       "      <td>2014-11-28</td>\n",
       "      <td>2014-12-16</td>\n",
       "      <td>...</td>\n",
       "      <td>2015-08-28</td>\n",
       "      <td>2016-01-18</td>\n",
       "      <td>2016-01-20</td>\n",
       "      <td>NaT</td>\n",
       "      <td>NaT</td>\n",
       "      <td>NaT</td>\n",
       "      <td>NaT</td>\n",
       "      <td>NaT</td>\n",
       "      <td>NaT</td>\n",
       "      <td>NaT</td>\n",
       "    </tr>\n",
       "    <tr>\n",
       "      <th>16</th>\n",
       "      <td>2013-12-30</td>\n",
       "      <td>2014-02-27</td>\n",
       "      <td>NaT</td>\n",
       "      <td>NaT</td>\n",
       "      <td>NaT</td>\n",
       "      <td>NaT</td>\n",
       "      <td>NaT</td>\n",
       "      <td>NaT</td>\n",
       "      <td>NaT</td>\n",
       "      <td>NaT</td>\n",
       "      <td>...</td>\n",
       "      <td>NaT</td>\n",
       "      <td>NaT</td>\n",
       "      <td>NaT</td>\n",
       "      <td>NaT</td>\n",
       "      <td>NaT</td>\n",
       "      <td>NaT</td>\n",
       "      <td>NaT</td>\n",
       "      <td>NaT</td>\n",
       "      <td>NaT</td>\n",
       "      <td>NaT</td>\n",
       "    </tr>\n",
       "    <tr>\n",
       "      <th>17</th>\n",
       "      <td>2015-01-21</td>\n",
       "      <td>2016-01-19</td>\n",
       "      <td>NaT</td>\n",
       "      <td>NaT</td>\n",
       "      <td>NaT</td>\n",
       "      <td>NaT</td>\n",
       "      <td>NaT</td>\n",
       "      <td>NaT</td>\n",
       "      <td>NaT</td>\n",
       "      <td>NaT</td>\n",
       "      <td>...</td>\n",
       "      <td>NaT</td>\n",
       "      <td>NaT</td>\n",
       "      <td>NaT</td>\n",
       "      <td>NaT</td>\n",
       "      <td>NaT</td>\n",
       "      <td>NaT</td>\n",
       "      <td>NaT</td>\n",
       "      <td>NaT</td>\n",
       "      <td>NaT</td>\n",
       "      <td>NaT</td>\n",
       "    </tr>\n",
       "    <tr>\n",
       "      <th>18</th>\n",
       "      <td>2015-06-26</td>\n",
       "      <td>2015-11-27</td>\n",
       "      <td>2016-01-21</td>\n",
       "      <td>2016-02-19</td>\n",
       "      <td>2017-01-24</td>\n",
       "      <td>2017-03-16</td>\n",
       "      <td>NaT</td>\n",
       "      <td>NaT</td>\n",
       "      <td>NaT</td>\n",
       "      <td>NaT</td>\n",
       "      <td>...</td>\n",
       "      <td>NaT</td>\n",
       "      <td>NaT</td>\n",
       "      <td>NaT</td>\n",
       "      <td>NaT</td>\n",
       "      <td>NaT</td>\n",
       "      <td>NaT</td>\n",
       "      <td>NaT</td>\n",
       "      <td>NaT</td>\n",
       "      <td>NaT</td>\n",
       "      <td>NaT</td>\n",
       "    </tr>\n",
       "    <tr>\n",
       "      <th>19</th>\n",
       "      <td>2016-01-19</td>\n",
       "      <td>2016-02-19</td>\n",
       "      <td>2017-01-24</td>\n",
       "      <td>2017-03-16</td>\n",
       "      <td>2017-12-14</td>\n",
       "      <td>2018-04-17</td>\n",
       "      <td>2019-11-05</td>\n",
       "      <td>2020-02-17</td>\n",
       "      <td>2020-04-15</td>\n",
       "      <td>NaT</td>\n",
       "      <td>...</td>\n",
       "      <td>NaT</td>\n",
       "      <td>NaT</td>\n",
       "      <td>NaT</td>\n",
       "      <td>NaT</td>\n",
       "      <td>NaT</td>\n",
       "      <td>NaT</td>\n",
       "      <td>NaT</td>\n",
       "      <td>NaT</td>\n",
       "      <td>NaT</td>\n",
       "      <td>NaT</td>\n",
       "    </tr>\n",
       "    <tr>\n",
       "      <th>20</th>\n",
       "      <td>2018-12-19</td>\n",
       "      <td>2020-04-24</td>\n",
       "      <td>NaT</td>\n",
       "      <td>NaT</td>\n",
       "      <td>NaT</td>\n",
       "      <td>NaT</td>\n",
       "      <td>NaT</td>\n",
       "      <td>NaT</td>\n",
       "      <td>NaT</td>\n",
       "      <td>NaT</td>\n",
       "      <td>...</td>\n",
       "      <td>NaT</td>\n",
       "      <td>NaT</td>\n",
       "      <td>NaT</td>\n",
       "      <td>NaT</td>\n",
       "      <td>NaT</td>\n",
       "      <td>NaT</td>\n",
       "      <td>NaT</td>\n",
       "      <td>NaT</td>\n",
       "      <td>NaT</td>\n",
       "      <td>NaT</td>\n",
       "    </tr>\n",
       "    <tr>\n",
       "      <th>21</th>\n",
       "      <td>2010-01-07</td>\n",
       "      <td>2010-01-21</td>\n",
       "      <td>2010-05-20</td>\n",
       "      <td>2010-05-27</td>\n",
       "      <td>2010-06-03</td>\n",
       "      <td>2010-06-10</td>\n",
       "      <td>2010-10-21</td>\n",
       "      <td>2010-11-11</td>\n",
       "      <td>2010-12-30</td>\n",
       "      <td>2011-01-06</td>\n",
       "      <td>...</td>\n",
       "      <td>2019-08-09</td>\n",
       "      <td>NaT</td>\n",
       "      <td>NaT</td>\n",
       "      <td>NaT</td>\n",
       "      <td>NaT</td>\n",
       "      <td>NaT</td>\n",
       "      <td>NaT</td>\n",
       "      <td>NaT</td>\n",
       "      <td>NaT</td>\n",
       "      <td>NaT</td>\n",
       "    </tr>\n",
       "    <tr>\n",
       "      <th>22</th>\n",
       "      <td>2010-01-05</td>\n",
       "      <td>2010-01-12</td>\n",
       "      <td>2010-01-19</td>\n",
       "      <td>2010-06-01</td>\n",
       "      <td>2010-06-08</td>\n",
       "      <td>2010-10-26</td>\n",
       "      <td>2010-11-09</td>\n",
       "      <td>2010-12-28</td>\n",
       "      <td>2011-01-04</td>\n",
       "      <td>2011-01-11</td>\n",
       "      <td>...</td>\n",
       "      <td>NaT</td>\n",
       "      <td>NaT</td>\n",
       "      <td>NaT</td>\n",
       "      <td>NaT</td>\n",
       "      <td>NaT</td>\n",
       "      <td>NaT</td>\n",
       "      <td>NaT</td>\n",
       "      <td>NaT</td>\n",
       "      <td>NaT</td>\n",
       "      <td>NaT</td>\n",
       "    </tr>\n",
       "    <tr>\n",
       "      <th>23</th>\n",
       "      <td>2010-04-08</td>\n",
       "      <td>2010-04-22</td>\n",
       "      <td>2010-05-06</td>\n",
       "      <td>2010-05-20</td>\n",
       "      <td>2010-06-03</td>\n",
       "      <td>2010-07-15</td>\n",
       "      <td>2010-10-28</td>\n",
       "      <td>2010-11-11</td>\n",
       "      <td>2011-05-12</td>\n",
       "      <td>2011-06-30</td>\n",
       "      <td>...</td>\n",
       "      <td>NaT</td>\n",
       "      <td>NaT</td>\n",
       "      <td>NaT</td>\n",
       "      <td>NaT</td>\n",
       "      <td>NaT</td>\n",
       "      <td>NaT</td>\n",
       "      <td>NaT</td>\n",
       "      <td>NaT</td>\n",
       "      <td>NaT</td>\n",
       "      <td>NaT</td>\n",
       "    </tr>\n",
       "  </tbody>\n",
       "</table>\n",
       "<p>24 rows × 29 columns</p>\n",
       "</div>"
      ],
      "text/plain": [
       "           0          1          2          3          4          5   \\\n",
       "0  2010-10-20 2010-12-26 2011-02-09 2011-04-06 2011-07-07 2012-06-08   \n",
       "1  2010-10-20 2010-12-26 2011-02-09 2011-04-06 2011-07-07 2012-06-08   \n",
       "2  2020-04-07        NaT        NaT        NaT        NaT        NaT   \n",
       "3  2013-10-25 2013-10-28 2013-11-19 2014-02-13 2014-02-14 2014-04-01   \n",
       "4  2019-08-20 2019-11-20 2020-02-20 2020-04-20        NaT        NaT   \n",
       "5  2010-01-18 2010-02-25 2010-05-10 2010-11-16 2010-11-29 2010-12-20   \n",
       "6  2010-01-18 2010-02-25 2010-05-10 2010-11-16 2010-11-29 2010-12-20   \n",
       "7  2012-05-03 2012-05-10 2012-07-03 2012-07-05 2012-07-10 2012-07-19   \n",
       "8  2012-01-17 2012-01-19 2012-06-26 2012-06-28 2012-07-03 2012-07-05   \n",
       "9  2012-09-13 2015-01-27 2016-01-19 2016-09-13 2017-02-03 2017-03-16   \n",
       "10 2017-10-27 2018-01-16        NaT        NaT        NaT        NaT   \n",
       "11 2014-01-21 2015-02-10        NaT        NaT        NaT        NaT   \n",
       "12 2014-01-20 2015-03-04 2015-11-20 2017-02-03 2017-03-16 2017-12-14   \n",
       "13 2014-01-20 2015-03-04 2015-11-20 2017-02-03 2017-03-16 2017-12-14   \n",
       "14 2016-02-01 2017-02-03 2017-03-16 2017-12-14 2018-03-22 2019-12-31   \n",
       "15 2013-10-28 2013-11-18 2013-12-18 2013-12-19 2013-12-23 2013-12-24   \n",
       "16 2013-12-30 2014-02-27        NaT        NaT        NaT        NaT   \n",
       "17 2015-01-21 2016-01-19        NaT        NaT        NaT        NaT   \n",
       "18 2015-06-26 2015-11-27 2016-01-21 2016-02-19 2017-01-24 2017-03-16   \n",
       "19 2016-01-19 2016-02-19 2017-01-24 2017-03-16 2017-12-14 2018-04-17   \n",
       "20 2018-12-19 2020-04-24        NaT        NaT        NaT        NaT   \n",
       "21 2010-01-07 2010-01-21 2010-05-20 2010-05-27 2010-06-03 2010-06-10   \n",
       "22 2010-01-05 2010-01-12 2010-01-19 2010-06-01 2010-06-08 2010-10-26   \n",
       "23 2010-04-08 2010-04-22 2010-05-06 2010-05-20 2010-06-03 2010-07-15   \n",
       "\n",
       "           6          7          8          9   ...         19         20  \\\n",
       "0  2012-07-06 2014-11-22 2015-03-01 2015-05-11  ...        NaT        NaT   \n",
       "1  2012-07-06 2014-11-22 2015-03-01 2015-05-11  ...        NaT        NaT   \n",
       "2         NaT        NaT        NaT        NaT  ...        NaT        NaT   \n",
       "3  2014-06-17 2014-11-24 2014-11-27 2014-11-28  ... 2020-02-20 2020-04-20   \n",
       "4         NaT        NaT        NaT        NaT  ...        NaT        NaT   \n",
       "5  2011-01-20 2011-02-24 2011-03-25 2011-04-21  ... 2016-03-01 2018-04-25   \n",
       "6  2011-01-20 2011-02-24 2011-03-25 2011-04-21  ... 2016-03-01 2018-04-25   \n",
       "7  2012-08-21 2012-09-06 2013-07-30 2013-08-06  ... 2015-06-30 2015-08-27   \n",
       "8  2012-08-16 2012-08-28 2012-09-04 2012-09-11  ... 2018-04-16 2019-12-18   \n",
       "9  2017-12-14 2018-05-28        NaT        NaT  ...        NaT        NaT   \n",
       "10        NaT        NaT        NaT        NaT  ...        NaT        NaT   \n",
       "11        NaT        NaT        NaT        NaT  ...        NaT        NaT   \n",
       "12 2018-03-22 2019-12-31 2020-04-10        NaT  ...        NaT        NaT   \n",
       "13 2018-03-22 2019-12-31 2020-04-10        NaT  ...        NaT        NaT   \n",
       "14 2020-04-10        NaT        NaT        NaT  ...        NaT        NaT   \n",
       "15 2014-11-20 2014-11-21 2014-11-28 2014-12-16  ... 2015-08-28 2016-01-18   \n",
       "16        NaT        NaT        NaT        NaT  ...        NaT        NaT   \n",
       "17        NaT        NaT        NaT        NaT  ...        NaT        NaT   \n",
       "18        NaT        NaT        NaT        NaT  ...        NaT        NaT   \n",
       "19 2019-11-05 2020-02-17 2020-04-15        NaT  ...        NaT        NaT   \n",
       "20        NaT        NaT        NaT        NaT  ...        NaT        NaT   \n",
       "21 2010-10-21 2010-11-11 2010-12-30 2011-01-06  ... 2019-08-09        NaT   \n",
       "22 2010-11-09 2010-12-28 2011-01-04 2011-01-11  ...        NaT        NaT   \n",
       "23 2010-10-28 2010-11-11 2011-05-12 2011-06-30  ...        NaT        NaT   \n",
       "\n",
       "           21         22         23         24         25         26  \\\n",
       "0         NaT        NaT        NaT        NaT        NaT        NaT   \n",
       "1         NaT        NaT        NaT        NaT        NaT        NaT   \n",
       "2         NaT        NaT        NaT        NaT        NaT        NaT   \n",
       "3         NaT        NaT        NaT        NaT        NaT        NaT   \n",
       "4         NaT        NaT        NaT        NaT        NaT        NaT   \n",
       "5  2018-07-05 2018-10-15 2019-01-15 2019-01-25 2019-09-16 2020-01-06   \n",
       "6  2018-07-05 2018-10-15 2019-01-15 2019-01-25 2019-09-16 2020-01-06   \n",
       "7  2015-10-27 2017-02-03 2017-03-16 2017-12-14 2018-03-22 2019-11-18   \n",
       "8  2020-02-03 2020-06-18        NaT        NaT        NaT        NaT   \n",
       "9         NaT        NaT        NaT        NaT        NaT        NaT   \n",
       "10        NaT        NaT        NaT        NaT        NaT        NaT   \n",
       "11        NaT        NaT        NaT        NaT        NaT        NaT   \n",
       "12        NaT        NaT        NaT        NaT        NaT        NaT   \n",
       "13        NaT        NaT        NaT        NaT        NaT        NaT   \n",
       "14        NaT        NaT        NaT        NaT        NaT        NaT   \n",
       "15 2016-01-20        NaT        NaT        NaT        NaT        NaT   \n",
       "16        NaT        NaT        NaT        NaT        NaT        NaT   \n",
       "17        NaT        NaT        NaT        NaT        NaT        NaT   \n",
       "18        NaT        NaT        NaT        NaT        NaT        NaT   \n",
       "19        NaT        NaT        NaT        NaT        NaT        NaT   \n",
       "20        NaT        NaT        NaT        NaT        NaT        NaT   \n",
       "21        NaT        NaT        NaT        NaT        NaT        NaT   \n",
       "22        NaT        NaT        NaT        NaT        NaT        NaT   \n",
       "23        NaT        NaT        NaT        NaT        NaT        NaT   \n",
       "\n",
       "           27         28  \n",
       "0         NaT        NaT  \n",
       "1         NaT        NaT  \n",
       "2         NaT        NaT  \n",
       "3         NaT        NaT  \n",
       "4         NaT        NaT  \n",
       "5  2020-04-15 2020-05-15  \n",
       "6         NaT        NaT  \n",
       "7  2020-02-03 2020-03-30  \n",
       "8         NaT        NaT  \n",
       "9         NaT        NaT  \n",
       "10        NaT        NaT  \n",
       "11        NaT        NaT  \n",
       "12        NaT        NaT  \n",
       "13        NaT        NaT  \n",
       "14        NaT        NaT  \n",
       "15        NaT        NaT  \n",
       "16        NaT        NaT  \n",
       "17        NaT        NaT  \n",
       "18        NaT        NaT  \n",
       "19        NaT        NaT  \n",
       "20        NaT        NaT  \n",
       "21        NaT        NaT  \n",
       "22        NaT        NaT  \n",
       "23        NaT        NaT  \n",
       "\n",
       "[24 rows x 29 columns]"
      ]
     },
     "execution_count": 9,
     "metadata": {},
     "output_type": "execute_result"
    }
   ],
   "source": [
    "df_time=pd.DataFrame([v.index for k,v in dic.items()]).T\n",
    "df_time.T"
   ]
  },
  {
   "cell_type": "code",
   "execution_count": 10,
   "metadata": {},
   "outputs": [
    {
     "data": {
      "text/plain": [
       "指标名称\n",
       "2010-12-26    0.25\n",
       "2011-02-09    0.25\n",
       "2011-04-06    0.25\n",
       "2011-07-07    0.25\n",
       "2012-06-08   -0.25\n",
       "2012-07-06   -0.31\n",
       "2014-11-22    -0.4\n",
       "2015-03-01   -0.25\n",
       "2015-05-11   -0.25\n",
       "2015-06-28   -0.25\n",
       "2015-08-26   -0.25\n",
       "2015-10-24   -0.25\n",
       "Name: 短期贷款利率:6个月至1年(含), dtype: object"
      ]
     },
     "execution_count": 10,
     "metadata": {},
     "output_type": "execute_result"
    }
   ],
   "source": [
    "(list(dic.values())[1]-list(dic.values())[1].shift(1)).iloc[1:]"
   ]
  },
  {
   "cell_type": "code",
   "execution_count": 11,
   "metadata": {},
   "outputs": [
    {
     "data": {
      "image/png": "[encoded data removed]",
      "text/plain": [
       "<Figure size 864x288 with 2 Axes>"
      ]
     },
     "metadata": {},
     "output_type": "display_data"
    }
   ],
   "source": [
    "sns.set_style('whitegrid')\n",
    "plt.rcParams['font.sans-serif'] = ['SimHei']\n",
    "plt.rcParams['axes.unicode_minus'] = False\n",
    "def joint_plot(plot_list=(0,1)):\n",
    "    plt.figure(figsize=(12,4))\n",
    "    plt.subplot(1,2,1)\n",
    "    for one in range(plot_list[0],plot_list[1]+1):\n",
    "        plt.step(list(dic.values())[one].index,list(dic.values())[one].values)\n",
    "    plt.legend(list(dic.keys())[plot_list[0]:plot_list[-1]+1]) #    \n",
    "    plt.ylabel('利率（%）')\n",
    "    plt.xlabel('年份')\n",
    "\n",
    "#     plt.show()\n",
    "    plt.subplot(1,2,2)\n",
    "\n",
    "    for one in range(plot_list[0],plot_list[1]+1):\n",
    "        delta=(list(dic.values())[one]-list(dic.values())[one].shift(1)).iloc[1:] # 变化值\n",
    "        plt.bar(list(dic.values())[one].index[1:],delta.values,width=50,alpha=0.5)\n",
    "    plt.ylabel('利率变化')\n",
    "    plt.xlabel('年份')\n",
    "\n",
    "    plt.legend(list(dic.keys())[plot_list[0]:plot_list[-1]+1]) #    \n",
    "    plt.show()\n",
    "joint_plot([0,1])"
   ]
  },
  {
   "cell_type": "code",
   "execution_count": 12,
   "metadata": {},
   "outputs": [
    {
     "data": {
      "image/png": "[encoded data removed]",
      "text/plain": [
       "<Figure size 864x288 with 2 Axes>"
      ]
     },
     "metadata": {},
     "output_type": "display_data"
    }
   ],
   "source": [
    "joint_plot([3,4])"
   ]
  },
  {
   "cell_type": "code",
   "execution_count": 13,
   "metadata": {},
   "outputs": [
    {
     "data": {
      "image/png": "[encoded data removed]",
      "text/plain": [
       "<Figure size 864x288 with 2 Axes>"
      ]
     },
     "metadata": {},
     "output_type": "display_data"
    }
   ],
   "source": [
    "joint_plot([15,16])"
   ]
  },
  {
   "cell_type": "code",
   "execution_count": 14,
   "metadata": {},
   "outputs": [
    {
     "data": {
      "image/png": "[encoded data removed]",
      "text/plain": [
       "<Figure size 864x288 with 2 Axes>"
      ]
     },
     "metadata": {},
     "output_type": "display_data"
    }
   ],
   "source": [
    "joint_plot([7,11])"
   ]
  },
  {
   "cell_type": "code",
   "execution_count": 15,
   "metadata": {},
   "outputs": [
    {
     "data": {
      "image/png": "[encoded data removed]",
      "text/plain": [
       "<Figure size 864x288 with 2 Axes>"
      ]
     },
     "metadata": {},
     "output_type": "display_data"
    }
   ],
   "source": [
    "joint_plot([12,14])"
   ]
  },
  {
   "cell_type": "code",
   "execution_count": 16,
   "metadata": {},
   "outputs": [
    {
     "data": {
      "image/png": "[encoded data removed]",
      "text/plain": [
       "<Figure size 864x288 with 2 Axes>"
      ]
     },
     "metadata": {},
     "output_type": "display_data"
    }
   ],
   "source": [
    "joint_plot([17,20])"
   ]
  },
  {
   "cell_type": "code",
   "execution_count": 17,
   "metadata": {},
   "outputs": [
    {
     "data": {
      "image/png": "[encoded data removed]",
      "text/plain": [
       "<Figure size 864x288 with 2 Axes>"
      ]
     },
     "metadata": {},
     "output_type": "display_data"
    }
   ],
   "source": [
    "joint_plot([21,23])"
   ]
  },
  {
   "cell_type": "code",
   "execution_count": 18,
   "metadata": {},
   "outputs": [
    {
     "data": {
      "text/plain": [
       "指标名称\n",
       "2010-01-05    1.7605\n",
       "2010-01-12    1.8434\n",
       "2010-01-19    1.9264\n",
       "2010-06-01    2.0096\n",
       "2010-06-08    2.0929\n",
       "2010-10-26    2.2913\n",
       "2010-11-09    2.3437\n",
       "2010-12-28    2.5115\n",
       "2011-01-04    2.6167\n",
       "2011-01-11    2.7221\n",
       "2011-02-15    2.9972\n",
       "2011-03-15    3.1992\n",
       "2011-04-07    3.3058\n",
       "2011-06-21    3.4019\n",
       "2011-06-28    3.4982\n",
       "2011-08-16     3.584\n",
       "2011-11-08    3.5733\n",
       "2011-11-15    3.4875\n",
       "2019-02-20      2.45\n",
       "Name: 央行票据:发行利率:1年期, dtype: object"
      ]
     },
     "execution_count": 18,
     "metadata": {},
     "output_type": "execute_result"
    }
   ],
   "source": [
    "dic['央行票据:发行利率:1年期']"
   ]
  },
  {
   "cell_type": "code",
   "execution_count": 19,
   "metadata": {},
   "outputs": [
    {
     "name": "stdout",
     "output_type": "stream",
     "text": [
      "定期存款利率:1年(整存整取)\n",
      "短期贷款利率:6个月至1年(含)\n",
      "人民银行对金融机构存款利率:超额准备金\n",
      "贷款市场报价利率(LPR):1年\n",
      "贷款市场报价利率(LPR):5年\n",
      "人民币存款准备金率:中小型存款类金融机构(变动日期)\n",
      "人民币存款准备金率:大型存款类金融机构(变动日期)\n",
      "逆回购利率:7天\n",
      "逆回购利率:14天\n",
      "逆回购利率:28天\n",
      "逆回购利率:63天\n",
      "逆回购利率:21天\n",
      "常备借贷便利(SLF)利率:隔夜\n",
      "常备借贷便利(SLF)利率:7天\n",
      "常备借贷便利(SLF)利率:1个月\n",
      "SLO投放利率\n",
      "SLO回笼利率\n",
      "中期借贷便利(MLF):利率:3个月\n",
      "中期借贷便利(MLF):利率:6个月\n",
      "中期借贷便利(MLF):利率:1年\n",
      "定向中期借贷便利(TMLF):利率\n",
      "央行票据:发行利率:3个月\n",
      "央行票据:发行利率:1年期\n",
      "央行票据:发行利率:3年期\n"
     ]
    },
    {
     "data": {
      "image/png": "[encoded data removed]",
      "text/plain": [
       "<Figure size 432x288 with 1 Axes>"
      ]
     },
     "metadata": {},
     "output_type": "display_data"
    }
   ],
   "source": [
    "sns.set_style('whitegrid')\n",
    "for k,v in dic.items():\n",
    "    print(k)\n",
    "    if k!='人民币存款准备金率:中小型存款类金融机构(变动日期)' and k!='人民币存款准备金率:大型存款类金融机构(变动日期)':\n",
    "        plt.step(v.index,v.values)\n",
    "#     plt.show()"
   ]
  },
  {
   "cell_type": "markdown",
   "metadata": {},
   "source": [
    "## RRR\n"
   ]
  },
  {
   "cell_type": "code",
   "execution_count": 28,
   "metadata": {},
   "outputs": [],
   "source": [
    "rrr_time='''\n",
    "2010-01-12 19:00:00\n",
    "2010-02-12 18:00:00\n",
    "2010-05-02 18:43:27\n",
    "2010-11-10 18:45:00\n",
    "2010-11-19 17:59:46\n",
    "2010-12-10 18:00:01\n",
    "2011-01-14 17:55:26\n",
    "2011-02-18 18:02:18\n",
    "2011-03-18 18:20:56\n",
    "2011-04-17 17:02:15\n",
    "2011-05-12 18:30:02\n",
    "2011-06-14 15:18:25\n",
    "2011-11-30 19:03:42\n",
    "2012-02-18 20:00:00\n",
    "2012-05-12 19:00:00\n",
    "2014-04-22 15:30:31\n",
    "2014-06-09 18:51:44\n",
    "2015-02-04 18:21:17\n",
    "2015-04-19 17:01:07\n",
    "2015-06-27 16:55:24\n",
    "2015-08-25 18:15:34\n",
    "2015-10-23 19:17:52\n",
    "2016-02-29 18:00:00\n",
    "2017-09-30 17:00:01\n",
    "2018-04-17 18:26:32\n",
    "2018-06-24 17:02:18\n",
    "2018-10-07 11:49:46\n",
    "2019-01-04 17:20:40\n",
    "2019-05-06 09:29:27\n",
    "2019-09-06 17:22:05\n",
    "2020-01-01 15:07:56\n",
    "2020-03-13 17:16:23\n",
    "2020-04-03 16:57:32\n",
    "'''.strip().split('\\n')\n",
    "rrr_time;"
   ]
  },
  {
   "cell_type": "code",
   "execution_count": 29,
   "metadata": {},
   "outputs": [],
   "source": [
    "# 这函数修改了\n",
    "# def adjusted_time(rrr_time,threshold='12:00:00'):\n",
    "#     \"\"\"\n",
    "#     输入带有小时、分钟的数据，返回经过调整后的数据\n",
    "#     \"\"\"\n",
    "#     new_rrr_time=[]\n",
    "#     one_day=datetime.timedelta(days=1)\n",
    "#     for one in rrr_time:\n",
    "#         t=(one[-8:])\n",
    "#         one_time=(datetime.datetime.strptime(one,'%Y-%m-%d %H:%M:%S'))\n",
    "        \n",
    "#         if t>threshold: # 如果时间为超过下午四点半，则记为下一交易日（没有加一天，是因为后面的irs处理会按照下一交易日处理）\n",
    "#             # 这里不太对劲，根据发布时间，改为中午12点\n",
    "#             new_rrr_time+=[one[:10]]\n",
    "#     #         print(t+'==')\n",
    "#         else: # 当前交易日\n",
    "#             new_rrr_time+=[str(one_time-one_day)[:10]]\n",
    "#     #         print(t)\n",
    "#     new_rrr_time=list(set(new_rrr_time)) # 去掉重复时间\n",
    "#     new_rrr_time.sort()\n",
    "\n",
    "#     return new_rrr_time"
   ]
  },
  {
   "cell_type": "code",
   "execution_count": 37,
   "metadata": {},
   "outputs": [],
   "source": [
    "def adjusted_time(rrr_time,threshold='12:00:00'):\n",
    "    \"\"\"\n",
    "    输入带有小时、分钟的数据，返回经过调整后的数据\n",
    "    \"\"\"\n",
    "    new_rrr_time=[]\n",
    "    one_day=datetime.timedelta(days=1)\n",
    "    for one in rrr_time:\n",
    "        t=(one[-8:])\n",
    "        one_time=(datetime.datetime.strptime(one,'%Y-%m-%d %H:%M:%S'))\n",
    "        \n",
    "        if t>threshold: # 如果时间为超过下午四点半，则记为下一交易日,日期加一天\n",
    "            new_rrr_time+=[str(one_time+one_day)[:10]]\n",
    "        else: # 当前交易日\n",
    "            new_rrr_time+=[str(one_time)[:10]]\n",
    "    new_rrr_time=list(set(new_rrr_time)) # 去掉重复时间\n",
    "    new_rrr_time.sort()\n",
    "\n",
    "    return new_rrr_time"
   ]
  },
  {
   "cell_type": "code",
   "execution_count": 38,
   "metadata": {},
   "outputs": [
    {
     "data": {
      "image/png": "[encoded data removed]",
      "text/plain": [
       "<Figure size 432x288 with 1 Axes>"
      ]
     },
     "metadata": {},
     "output_type": "display_data"
    }
   ],
   "source": [
    "one_day=datetime.timedelta(days=1)\n",
    "\n",
    "\n",
    "\n",
    "\n",
    "\n",
    "\n",
    "new_rrr_time=adjusted_time(rrr_time,threshold='15:00:00')\n",
    "irs_change(new_rrr_time);\n"
   ]
  },
  {
   "cell_type": "code",
   "execution_count": 39,
   "metadata": {},
   "outputs": [],
   "source": [
    "new_rrr_time;"
   ]
  },
  {
   "cell_type": "code",
   "execution_count": 42,
   "metadata": {},
   "outputs": [
    {
     "name": "stdout",
     "output_type": "stream",
     "text": [
      "[{'LR': 13}, {'LPR': 21}, {'SLO': 24}, {'Repo': 55}, {'SLF': 10}, {'MLF': 15}, {'RRR': 33}, {'Report': 46}, {'Meeting': 46}]\n"
     ]
    }
   ],
   "source": [
    "\n"
   ]
  },
  {
   "cell_type": "markdown",
   "metadata": {},
   "source": [
    "# 处理央行货币政策执行报告\n"
   ]
  },
  {
   "cell_type": "code",
   "execution_count": null,
   "metadata": {},
   "outputs": [],
   "source": []
  },
  {
   "cell_type": "code",
   "execution_count": 43,
   "metadata": {},
   "outputs": [],
   "source": [
    "df_report=pd.read_excel(input_path+'央行货币政策执行报告.xlsx')\n",
    "df_meeting=pd.read_excel(input_path+'央行货币政策执行报告.xlsx',sheet_name='例会')\n",
    "df_meeting['发布时间'].head()\n",
    "df_report['发布时间'].head()\n",
    "report_time=adjusted_time(df_report['发布时间'])\n",
    "meeting_time=adjusted_time(df_meeting['发布时间'])\n"
   ]
  },
  {
   "cell_type": "code",
   "execution_count": 58,
   "metadata": {},
   "outputs": [
    {
     "name": "stdout",
     "output_type": "stream",
     "text": [
      "[{'LR': 13}, {'LPR': 21}, {'SLO': 24}, {'Repo': 55}, {'SLF': 10}, {'MLF': 15}, {'RRR': 33}, {'Report': 46}, {'Meeting': 46}]\n"
     ]
    }
   ],
   "source": []
  },
  {
   "cell_type": "markdown",
   "metadata": {},
   "source": [
    "# 计算IRS冲击响应\n"
   ]
  },
  {
   "cell_type": "code",
   "execution_count": 44,
   "metadata": {},
   "outputs": [
    {
     "data": {
      "text/html": [
       "<div>\n",
       "<style scoped>\n",
       "    .dataframe tbody tr th:only-of-type {\n",
       "        vertical-align: middle;\n",
       "    }\n",
       "\n",
       "    .dataframe tbody tr th {\n",
       "        vertical-align: top;\n",
       "    }\n",
       "\n",
       "    .dataframe thead th {\n",
       "        text-align: right;\n",
       "    }\n",
       "</style>\n",
       "<table border=\"1\" class=\"dataframe\">\n",
       "  <thead>\n",
       "    <tr style=\"text-align: right;\">\n",
       "      <th></th>\n",
       "      <th>收盘价</th>\n",
       "    </tr>\n",
       "    <tr>\n",
       "      <th>日期</th>\n",
       "      <th></th>\n",
       "    </tr>\n",
       "  </thead>\n",
       "  <tbody>\n",
       "    <tr>\n",
       "      <th>2010-04-19</th>\n",
       "      <td>2.1900</td>\n",
       "    </tr>\n",
       "    <tr>\n",
       "      <th>2010-04-20</th>\n",
       "      <td>2.1600</td>\n",
       "    </tr>\n",
       "    <tr>\n",
       "      <th>2010-04-21</th>\n",
       "      <td>2.1500</td>\n",
       "    </tr>\n",
       "    <tr>\n",
       "      <th>2010-04-22</th>\n",
       "      <td>2.1300</td>\n",
       "    </tr>\n",
       "    <tr>\n",
       "      <th>2010-04-23</th>\n",
       "      <td>2.1300</td>\n",
       "    </tr>\n",
       "    <tr>\n",
       "      <th>...</th>\n",
       "      <td>...</td>\n",
       "    </tr>\n",
       "    <tr>\n",
       "      <th>2020-09-24</th>\n",
       "      <td>2.4275</td>\n",
       "    </tr>\n",
       "    <tr>\n",
       "      <th>2020-09-25</th>\n",
       "      <td>2.4625</td>\n",
       "    </tr>\n",
       "    <tr>\n",
       "      <th>2020-09-28</th>\n",
       "      <td>2.4400</td>\n",
       "    </tr>\n",
       "    <tr>\n",
       "      <th>2020-09-29</th>\n",
       "      <td>2.4650</td>\n",
       "    </tr>\n",
       "    <tr>\n",
       "      <th>2020-09-30</th>\n",
       "      <td>2.4800</td>\n",
       "    </tr>\n",
       "  </tbody>\n",
       "</table>\n",
       "<p>2433 rows × 1 columns</p>\n",
       "</div>"
      ],
      "text/plain": [
       "               收盘价\n",
       "日期                \n",
       "2010-04-19  2.1900\n",
       "2010-04-20  2.1600\n",
       "2010-04-21  2.1500\n",
       "2010-04-22  2.1300\n",
       "2010-04-23  2.1300\n",
       "...            ...\n",
       "2020-09-24  2.4275\n",
       "2020-09-25  2.4625\n",
       "2020-09-28  2.4400\n",
       "2020-09-29  2.4650\n",
       "2020-09-30  2.4800\n",
       "\n",
       "[2433 rows x 1 columns]"
      ]
     },
     "execution_count": 44,
     "metadata": {},
     "output_type": "execute_result"
    }
   ],
   "source": [
    "irs=pd.read_excel(input_path+'IRS_ALL.xlsx',index_col=0)\n",
    "irs.index=pd.DatetimeIndex(irs.index)\n",
    "irs"
   ]
  },
  {
   "cell_type": "code",
   "execution_count": null,
   "metadata": {},
   "outputs": [],
   "source": []
  },
  {
   "cell_type": "code",
   "execution_count": 45,
   "metadata": {},
   "outputs": [],
   "source": [
    "# change=pd.DataFrame(index=pd.Series(get_time_list(df_time.iloc[:,7:12]))[pd.Series(get_time_list(df_time.iloc[:,7:12]))>'2010-04-19'],columns=['t1','t0','irs1','irs0'])\n",
    "# for one in change.index:\n",
    "#     print(one)\n",
    "#     if one in list(map(lambda x : str(x)[:10],irs.index)):\n"
   ]
  },
  {
   "cell_type": "markdown",
   "metadata": {},
   "source": [
    "# 处理其他货币政策数据\n",
    "## 希望全部处理成 after_close=False，即变动日期表示**当日交易时段**发生变动\n",
    "\n",
    "after_close：默认为True，表示货币政策公布时点为当日收盘后\n",
    "\n"
   ]
  },
  {
   "cell_type": "code",
   "execution_count": 46,
   "metadata": {},
   "outputs": [],
   "source": [
    "irs.index;"
   ]
  },
  {
   "cell_type": "code",
   "execution_count": 47,
   "metadata": {},
   "outputs": [],
   "source": [
    "\n",
    "def irs_change(new_rrr_time:str,output=True,after_close=False):\n",
    "    \"\"\"\n",
    "    输入时间数据，返回IRS冲击响应\n",
    "    output: 是否绘图\n",
    "    after_close：默认为False，表示货币政策公布时点为当日收盘后\n",
    "    \"\"\"\n",
    "    change=pd.DataFrame(index=pd.Series(new_rrr_time)[pd.Series(new_rrr_time)>'2010-04-19'],columns=['t1','t0','irs1','irs0'])\n",
    "    \n",
    "    \n",
    "    ## 重大bug!!,下面的if循环！！，之前的文件里，change的index格式为datetime，此处为str，已经修正为适合str\n",
    "    \n",
    "    \n",
    "#     print(change)\n",
    "    for one in change.index:\n",
    "        # 当天收盘后才公布IRS,如果当天存在（为交易日）则当天收盘价为初始irs\n",
    "        if after_close:\n",
    "            if one in list(map(lambda x : str(x)[:10],irs.index)):  ## 这里IRS的index处理成str，否则无法匹配\n",
    "                t0=one\n",
    "                irs0=irs['收盘价'][one]\n",
    "            # 否则前一天为初始irs\n",
    "            else:\n",
    "                t0=irs[irs.index<one].index.max()\n",
    "                irs0=irs['收盘价'][t0]\n",
    "            # 冲击后irs为后一天irs\n",
    "            t1=(irs[irs.index>one].index.min())\n",
    "            irs1=irs['收盘价'][t1]\n",
    "            \n",
    "        else: # 在当日交易中公布的信息\n",
    "            if one in list(map(lambda x : str(x)[:10],irs.index)):\n",
    "                t1=one\n",
    "                irs1=irs['收盘价'][one]\n",
    "            # 否则前一天为初始irs\n",
    "            else:\n",
    "                t1=irs[irs.index>one].index.min()\n",
    "                irs1=irs['收盘价'][t1]\n",
    "            # 冲击后irs为后一天irs\n",
    "            t0=(irs[irs.index<one].index.max())\n",
    "            irs0=irs['收盘价'][t0]\n",
    "        \n",
    "        t0,t1=str(t0)[:10],str(t1)[:10]\n",
    "        ###\n",
    "#         print(one,t1,t0,irs1,irs0)\n",
    "        \n",
    "        change.loc[one]=[t1,t0,irs1,irs0]\n",
    "#         change.loc[one]=[1,2,3,4]\n",
    "\n",
    "    change['irs_change']=change['irs1']-change['irs0']\n",
    "    \n",
    "    if output:\n",
    "    \n",
    "        import re\n",
    "        # x=df['公布时间'].apply(lambda x:re.sub('[^\\x00-\\xff]','-',x)[:-1])\n",
    "    #     x=new_rrr_time\n",
    "        # plt.figure(figsize=(10,7))\n",
    "        plt.bar(change.index,change['irs_change']*100)\n",
    "        plt.xticks(rotation=30)\n",
    "\n",
    "\n",
    "        # 下面部分为设置坐标轴刻度显示密度\n",
    "        from matplotlib.pyplot import MultipleLocator\n",
    "\n",
    "        show_inter=int(len(change)/10)+1\n",
    "\n",
    "        x_major_locator=MultipleLocator(show_inter)\n",
    "        #把x轴的刻度间隔设置为1，并存在变量里\n",
    "    #     y_major_locator=MultipleLocator(10)\n",
    "        ax=plt.gca()\n",
    "        #ax为两条坐标轴的实例\n",
    "        ax.xaxis.set_major_locator(x_major_locator)\n",
    "        #把x轴的主刻度设置为1的倍数\n",
    "    #     ax.yaxis.set_major_locator(y_major_locator)\n",
    "        #把y轴的主刻度设置为10的倍数\n",
    "\n",
    "\n",
    "        plt.xlabel('时间')\n",
    "        plt.ylabel('IRS冲击响应')\n",
    "\n",
    "        plt.rcParams['font.sans-serif'] = ['SimHei']\n",
    "        plt.rcParams['axes.unicode_minus'] = False\n",
    "        plt.show()\n",
    "    return change\n",
    "\n",
    "# irs_change(['2011-01-01','2013-02-03','2013-02-04','2013-02-05'])['irs_change'].std()"
   ]
  },
  {
   "cell_type": "code",
   "execution_count": 48,
   "metadata": {},
   "outputs": [],
   "source": [
    "# for k,v  in dic.items():\n",
    "#     print(k)\n",
    "#     time_list=list(map(lambda x:str(x)[:10] ,v.index.tolist()))\n",
    "#     print(time_list)"
   ]
  },
  {
   "cell_type": "code",
   "execution_count": 49,
   "metadata": {},
   "outputs": [],
   "source": [
    "# change_time_df=df_time.iloc[:,22:23]\n",
    "# time_list=(get_time_list(change_time_df))\n",
    "# time_list"
   ]
  },
  {
   "cell_type": "code",
   "execution_count": 59,
   "metadata": {},
   "outputs": [
    {
     "name": "stdout",
     "output_type": "stream",
     "text": [
      "LR\n",
      "LPR\n",
      "SLO\n",
      "Repo\n",
      "SLF\n",
      "MLF\n"
     ]
    }
   ],
   "source": [
    "# 此处添加一个，若当日收盘前变化则记为0，当日收盘后变化记为1\n",
    "range_dic={\n",
    "'LR':[0,1],\n",
    "'LPR':[3,4],\n",
    "'SLO':[15,16],\n",
    "'Repo':[7,11],\n",
    "'SLF':[12,14],\n",
    "'MLF': [17,20],\n",
    "# 'Note': [22,22] # 只要22（一年期） ，此前为21,23\n",
    "}\n",
    "\n",
    "\n",
    "def get_time_list(change_time_df):\n",
    "    time2list=list(map(lambda x:str(x)[:10] ,np.array(change_time_df).reshape(-1)))\n",
    "    time2list=list(set(time2list))\n",
    "    if 'NaT' in time2list:\n",
    "        time2list.remove('NaT')\n",
    "    time2list.sort()\n",
    "    return time2list\n",
    "\n",
    "\n",
    "\"\"\"\n",
    "LR为前一天晚上19:00发布，0\n",
    "LPR为当天发早上9:30发布，0\n",
    "SLO为当日17:10,1=============\n",
    "Repo当日早上，0\n",
    "SLF：同repo,0\n",
    "MLF:同Repo，0\n",
    "Note\n",
    "\"\"\"\n",
    "# SLO发布时间为当日收盘后，需要将其日期往后挪一天\n",
    "def delay_date(date_list:list):\n",
    "    new_date_list=[]\n",
    "    one_day=datetime.timedelta(days=1)\n",
    "    for one in date_list:\n",
    "        # 修改为下一日的数据\n",
    "        one_time=(datetime.datetime.strptime(one,'%Y-%m-%d'))\n",
    "        new_date=str(one_time+one_day)[:10]\n",
    "        new_date_list.append(new_date)\n",
    "    return new_date_list\n",
    "\n",
    "\n",
    "\n",
    "    \n",
    "#     irs_change(time_list)\n"
   ]
  },
  {
   "cell_type": "markdown",
   "metadata": {},
   "source": [
    "## 合并时间字典"
   ]
  },
  {
   "cell_type": "code",
   "execution_count": 60,
   "metadata": {},
   "outputs": [
    {
     "name": "stdout",
     "output_type": "stream",
     "text": [
      "LR\n",
      "LPR\n",
      "SLO\n",
      "Repo\n",
      "SLF\n",
      "MLF\n",
      "[{'LR': 13}, {'LPR': 21}, {'SLO': 24}, {'Repo': 55}, {'SLF': 10}, {'MLF': 15}, {'RRR': 33}, {'Report': 46}, {'Meeting': 46}]\n"
     ]
    }
   ],
   "source": [
    "time_list_dic={}\n",
    "\n",
    "for k,v in range_dic.items():\n",
    "    print(k)\n",
    "    change_time_df=df_time.iloc[:,v[0]:v[1]+1]\n",
    "    time_list=(get_time_list(change_time_df))\n",
    "    \n",
    "    # 调整SLO时间\n",
    "    if k=='SLO':\n",
    "        time_list=delay_date(time_list)\n",
    "    # 存储时间\n",
    "    time_list_dic[k]=time_list\n",
    "\n",
    "    \n",
    "time_list_dic['RRR']=new_rrr_time\n",
    "time_list_dic['Report']=report_time\n",
    "time_list_dic['Meeting']=meeting_time\n",
    "\n",
    "\n",
    "print([{k:len(v)} for k,v in time_list_dic.items()])\n",
    "time_list_dic;"
   ]
  },
  {
   "cell_type": "markdown",
   "metadata": {},
   "source": [
    "# !!各个货币政策的最大最小和平均"
   ]
  },
  {
   "cell_type": "code",
   "execution_count": null,
   "metadata": {},
   "outputs": [],
   "source": []
  },
  {
   "cell_type": "code",
   "execution_count": null,
   "metadata": {},
   "outputs": [],
   "source": []
  },
  {
   "cell_type": "code",
   "execution_count": 61,
   "metadata": {},
   "outputs": [],
   "source": [
    "def mean_min_max(irs_change):\n",
    "    abss=np.abs(irs_change)\n",
    "    return '样本数：{} {:6f} {:6f} {:6f} {:6f}'.format(len(irs_change),abss.mean(),abss.min(),abss.max(),irs_change.std())\n",
    "    \n",
    "\n",
    "# for k,v in range_dic.items():\n",
    "#     print(k,end=' ')\n",
    "#     change_time_df=df_time.iloc[:,v[0]:v[1]+1]\n",
    "#     time_list=(get_time_list(change_time_df))\n",
    "# #     print(time_list)\n",
    "#     print(mean_min_max(irs_change(time_list,output=False)['irs_change']))\n",
    "\n",
    "    "
   ]
  },
  {
   "cell_type": "markdown",
   "metadata": {},
   "source": [
    "## 如果考虑是在交易时段或交易时段之前公布消息\n",
    "\n",
    ">选这个！！！\n",
    "\n",
    ">已经进行统一，选两个都一样了\n",
    "\n",
    "LR这个才是对的!!(前一天晚上公布，第二天修改，wind日期为第二天)"
   ]
  },
  {
   "cell_type": "code",
   "execution_count": 62,
   "metadata": {},
   "outputs": [
    {
     "name": "stdout",
     "output_type": "stream",
     "text": [
      "LR 样本数：13 0.103285 0.030000 0.240000 0.120768\n",
      "LPR 样本数：21 0.050714 0.002500 0.240000 0.068795\n",
      "SLO 样本数：24 0.058125 0.000000 0.240000 0.086621\n",
      "Repo 样本数：55 0.051955 0.000000 0.240000 0.067449\n",
      "SLF 样本数：10 0.052000 0.005000 0.127500 0.065651\n",
      "MLF 样本数：15 0.029300 0.000000 0.127500 0.045349\n",
      "RRR 样本数：31 0.091068 0.005000 0.300000 0.122344\n",
      "Report 样本数：42 0.031029 0.000000 0.135000 0.043420\n",
      "Meeting 样本数：41 0.032195 0.000000 0.085000 0.039976\n"
     ]
    }
   ],
   "source": [
    "\n",
    "\n",
    "for k,v in time_list_dic.items():\n",
    "    print(k,end=' ')\n",
    "    time_list=v\n",
    "#     print(time_list)\n",
    "    print(mean_min_max(irs_change(time_list,output=False,after_close=False)['irs_change'])) # 增加了after_close参数\n"
   ]
  },
  {
   "cell_type": "code",
   "execution_count": 63,
   "metadata": {},
   "outputs": [
    {
     "name": "stdout",
     "output_type": "stream",
     "text": [
      "LR "
     ]
    },
    {
     "data": {
      "image/png": "[encoded data removed]",
      "text/plain": [
       "<Figure size 432x288 with 1 Axes>"
      ]
     },
     "metadata": {},
     "output_type": "display_data"
    },
    {
     "name": "stdout",
     "output_type": "stream",
     "text": [
      "样本数：13 0.103285 0.030000 0.240000 0.120768\n",
      "LPR "
     ]
    },
    {
     "data": {
      "image/png": "[encoded data removed]",
      "text/plain": [
       "<Figure size 432x288 with 1 Axes>"
      ]
     },
     "metadata": {},
     "output_type": "display_data"
    },
    {
     "name": "stdout",
     "output_type": "stream",
     "text": [
      "样本数：21 0.050714 0.002500 0.240000 0.068795\n",
      "SLO "
     ]
    },
    {
     "data": {
      "image/png": "[encoded data removed]",
      "text/plain": [
       "<Figure size 432x288 with 1 Axes>"
      ]
     },
     "metadata": {},
     "output_type": "display_data"
    },
    {
     "name": "stdout",
     "output_type": "stream",
     "text": [
      "样本数：24 0.058125 0.000000 0.240000 0.086621\n",
      "Repo "
     ]
    },
    {
     "data": {
      "image/png": "[encoded data removed]",
      "text/plain": [
       "<Figure size 432x288 with 1 Axes>"
      ]
     },
     "metadata": {},
     "output_type": "display_data"
    },
    {
     "name": "stdout",
     "output_type": "stream",
     "text": [
      "样本数：55 0.051955 0.000000 0.240000 0.067449\n",
      "SLF "
     ]
    },
    {
     "data": {
      "image/png": "[encoded data removed]",
      "text/plain": [
       "<Figure size 432x288 with 1 Axes>"
      ]
     },
     "metadata": {},
     "output_type": "display_data"
    },
    {
     "name": "stdout",
     "output_type": "stream",
     "text": [
      "样本数：10 0.052000 0.005000 0.127500 0.065651\n",
      "MLF "
     ]
    },
    {
     "data": {
      "image/png": "[encoded data removed]",
      "text/plain": [
       "<Figure size 432x288 with 1 Axes>"
      ]
     },
     "metadata": {},
     "output_type": "display_data"
    },
    {
     "name": "stdout",
     "output_type": "stream",
     "text": [
      "样本数：15 0.029300 0.000000 0.127500 0.045349\n",
      "RRR "
     ]
    },
    {
     "data": {
      "image/png": "[encoded data removed]",
      "text/plain": [
       "<Figure size 432x288 with 1 Axes>"
      ]
     },
     "metadata": {},
     "output_type": "display_data"
    },
    {
     "name": "stdout",
     "output_type": "stream",
     "text": [
      "样本数：31 0.091068 0.005000 0.300000 0.122344\n",
      "Report "
     ]
    },
    {
     "data": {
      "image/png": "[encoded data removed]",
      "text/plain": [
       "<Figure size 432x288 with 1 Axes>"
      ]
     },
     "metadata": {},
     "output_type": "display_data"
    },
    {
     "name": "stdout",
     "output_type": "stream",
     "text": [
      "样本数：42 0.031029 0.000000 0.135000 0.043420\n",
      "Meeting "
     ]
    },
    {
     "data": {
      "image/png": "[encoded data removed]",
      "text/plain": [
       "<Figure size 432x288 with 1 Axes>"
      ]
     },
     "metadata": {},
     "output_type": "display_data"
    },
    {
     "name": "stdout",
     "output_type": "stream",
     "text": [
      "样本数：41 0.032195 0.000000 0.085000 0.039976\n"
     ]
    }
   ],
   "source": [
    "\n",
    "for k,v in time_list_dic.items():\n",
    "    print(k,end=' ')\n",
    "    time_list=v\n",
    "#     print(time_list)\n",
    "    print(mean_min_max(irs_change(time_list,output=True,after_close=False)['irs_change'])) # 增加了after_close参数\n"
   ]
  },
  {
   "cell_type": "code",
   "execution_count": 64,
   "metadata": {},
   "outputs": [
    {
     "data": {
      "text/plain": [
       "收盘价    0.037618\n",
       "dtype: float64"
      ]
     },
     "execution_count": 64,
     "metadata": {},
     "output_type": "execute_result"
    }
   ],
   "source": [
    "# 全部\n",
    "np.abs(irs-irs.shift(1)).mean()\n"
   ]
  },
  {
   "cell_type": "markdown",
   "metadata": {},
   "source": [
    "计算无货币政策时的变动"
   ]
  },
  {
   "cell_type": "code",
   "execution_count": null,
   "metadata": {},
   "outputs": [],
   "source": []
  },
  {
   "cell_type": "code",
   "execution_count": 65,
   "metadata": {},
   "outputs": [
    {
     "name": "stdout",
     "output_type": "stream",
     "text": [
      "LR LPR SLO Repo SLF MLF RRR Report Meeting 样本数：2274 0.036767 0.000000 1.340000 0.093440\n"
     ]
    }
   ],
   "source": [
    "all_time_list=[] #所有货币政策时的变动\n",
    "\n",
    "for k,v in time_list_dic.items():\n",
    "    print(k,end=' ')\n",
    "    time_list=v\n",
    "    all_time_list+=(time_list)\n",
    "\n",
    "\n",
    "none_policy_day=list(set((irs.index).astype(str))-set(all_time_list))\n",
    "none_policy_day.sort()\n",
    "print(mean_min_max(irs_change(none_policy_day,output=False,after_close=False)['irs_change'])) # 增加了after_close参数\n"
   ]
  },
  {
   "cell_type": "code",
   "execution_count": 66,
   "metadata": {},
   "outputs": [
    {
     "name": "stdout",
     "output_type": "stream",
     "text": [
      "样本数：231 0.050242 0.000000 0.300000 0.073075\n"
     ]
    }
   ],
   "source": [
    "print(mean_min_max(irs_change(list(set(all_time_list)),output=False,after_close=False)['irs_change'])) # 增加了after_close参数\n"
   ]
  },
  {
   "cell_type": "code",
   "execution_count": 67,
   "metadata": {},
   "outputs": [
    {
     "data": {
      "image/png": "[encoded data removed]",
      "text/plain": [
       "<Figure size 432x288 with 1 Axes>"
      ]
     },
     "metadata": {},
     "output_type": "display_data"
    },
    {
     "data": {
      "text/plain": [
       "'样本数：31 0.091068 0.005000 0.300000 0.122344'"
      ]
     },
     "execution_count": 67,
     "metadata": {},
     "output_type": "execute_result"
    }
   ],
   "source": [
    "mean_min_max(irs_change(time_list_dic['RRR'])['irs_change'])"
   ]
  },
  {
   "cell_type": "markdown",
   "metadata": {},
   "source": [
    "## 对数量型、价格型汇总来看\n",
    "\n"
   ]
  },
  {
   "cell_type": "code",
   "execution_count": 68,
   "metadata": {},
   "outputs": [
    {
     "name": "stdout",
     "output_type": "stream",
     "text": [
      "78\n"
     ]
    },
    {
     "data": {
      "image/png": "[encoded data removed]",
      "text/plain": [
       "<Figure size 432x288 with 1 Axes>"
      ]
     },
     "metadata": {},
     "output_type": "display_data"
    },
    {
     "name": "stdout",
     "output_type": "stream",
     "text": [
      "样本数：76 0.065955 0.000000 0.300000 0.095491\n",
      "87\n"
     ]
    },
    {
     "data": {
      "image/png": "[encoded data removed]",
      "text/plain": [
       "<Figure size 432x288 with 1 Axes>"
      ]
     },
     "metadata": {},
     "output_type": "display_data"
    },
    {
     "name": "stdout",
     "output_type": "stream",
     "text": [
      "样本数：87 0.058738 0.000000 0.240000 0.077140\n",
      "92\n"
     ]
    },
    {
     "data": {
      "image/png": "[encoded data removed]",
      "text/plain": [
       "<Figure size 432x288 with 1 Axes>"
      ]
     },
     "metadata": {},
     "output_type": "display_data"
    },
    {
     "name": "stdout",
     "output_type": "stream",
     "text": [
      "样本数：83 0.031605 0.000000 0.135000 0.041692\n"
     ]
    }
   ],
   "source": [
    "shuliang=time_list_dic['RRR']+time_list_dic['SLO']+time_list_dic['SLF']+time_list_dic['MLF']\n",
    "jiage=time_list_dic['LR']+time_list_dic['LPR']+time_list_dic['Repo']\n",
    "yuqi=time_list_dic['Report']+time_list_dic['Meeting']\n",
    "\n",
    "for one in [shuliang,jiage,yuqi]:\n",
    "    print(len(set(one)))\n",
    "    print(mean_min_max(irs_change(list(set(one)))['irs_change']))"
   ]
  },
  {
   "cell_type": "markdown",
   "metadata": {},
   "source": [
    "# 债券市场响应"
   ]
  },
  {
   "cell_type": "code",
   "execution_count": 69,
   "metadata": {},
   "outputs": [],
   "source": [
    "# 用作一个格式参考，使用report 数据\n",
    "RRR_time_demo=irs_change(report_time,output=False)"
   ]
  },
  {
   "cell_type": "markdown",
   "metadata": {},
   "source": [
    "## 接下来进行回归，首先计算当日响应(h=0)\n",
    "\n",
    "$$∆y_{t+h,t-1} =α_h+β_hS_t+ε_{h,t}$$"
   ]
  },
  {
   "cell_type": "code",
   "execution_count": 70,
   "metadata": {},
   "outputs": [
    {
     "data": {
      "text/html": [
       "<div>\n",
       "<style scoped>\n",
       "    .dataframe tbody tr th:only-of-type {\n",
       "        vertical-align: middle;\n",
       "    }\n",
       "\n",
       "    .dataframe tbody tr th {\n",
       "        vertical-align: top;\n",
       "    }\n",
       "\n",
       "    .dataframe thead th {\n",
       "        text-align: right;\n",
       "    }\n",
       "</style>\n",
       "<table border=\"1\" class=\"dataframe\">\n",
       "  <thead>\n",
       "    <tr style=\"text-align: right;\">\n",
       "      <th></th>\n",
       "      <th>3m</th>\n",
       "      <th>6m</th>\n",
       "      <th>1y</th>\n",
       "      <th>3y</th>\n",
       "      <th>5y</th>\n",
       "      <th>10y</th>\n",
       "    </tr>\n",
       "    <tr>\n",
       "      <th>时间</th>\n",
       "      <th></th>\n",
       "      <th></th>\n",
       "      <th></th>\n",
       "      <th></th>\n",
       "      <th></th>\n",
       "      <th></th>\n",
       "    </tr>\n",
       "  </thead>\n",
       "  <tbody>\n",
       "    <tr>\n",
       "      <th>2010-01-04</th>\n",
       "      <td>1.2372</td>\n",
       "      <td>1.4107</td>\n",
       "      <td>1.5000</td>\n",
       "      <td>2.4374</td>\n",
       "      <td>2.9584</td>\n",
       "      <td>3.6603</td>\n",
       "    </tr>\n",
       "    <tr>\n",
       "      <th>2010-01-05</th>\n",
       "      <td>1.2552</td>\n",
       "      <td>1.4088</td>\n",
       "      <td>1.5098</td>\n",
       "      <td>2.4591</td>\n",
       "      <td>2.9910</td>\n",
       "      <td>3.6606</td>\n",
       "    </tr>\n",
       "    <tr>\n",
       "      <th>2010-01-06</th>\n",
       "      <td>1.2577</td>\n",
       "      <td>1.4106</td>\n",
       "      <td>1.5238</td>\n",
       "      <td>2.4360</td>\n",
       "      <td>2.9912</td>\n",
       "      <td>3.6425</td>\n",
       "    </tr>\n",
       "    <tr>\n",
       "      <th>2010-01-07</th>\n",
       "      <td>1.2821</td>\n",
       "      <td>1.4126</td>\n",
       "      <td>1.5489</td>\n",
       "      <td>2.4542</td>\n",
       "      <td>3.0039</td>\n",
       "      <td>3.6543</td>\n",
       "    </tr>\n",
       "    <tr>\n",
       "      <th>2010-01-08</th>\n",
       "      <td>1.3221</td>\n",
       "      <td>1.4095</td>\n",
       "      <td>1.5411</td>\n",
       "      <td>2.4692</td>\n",
       "      <td>3.0340</td>\n",
       "      <td>3.6614</td>\n",
       "    </tr>\n",
       "  </tbody>\n",
       "</table>\n",
       "</div>"
      ],
      "text/plain": [
       "                3m      6m      1y      3y      5y     10y\n",
       "时间                                                        \n",
       "2010-01-04  1.2372  1.4107  1.5000  2.4374  2.9584  3.6603\n",
       "2010-01-05  1.2552  1.4088  1.5098  2.4591  2.9910  3.6606\n",
       "2010-01-06  1.2577  1.4106  1.5238  2.4360  2.9912  3.6425\n",
       "2010-01-07  1.2821  1.4126  1.5489  2.4542  3.0039  3.6543\n",
       "2010-01-08  1.3221  1.4095  1.5411  2.4692  3.0340  3.6614"
      ]
     },
     "execution_count": 70,
     "metadata": {},
     "output_type": "execute_result"
    }
   ],
   "source": [
    "sov_rate=pd.read_excel(input_path+'国债收益率.xlsx',index_col=0)\n",
    "sov_rate.index=pd.DatetimeIndex(sov_rate.index)\n",
    "sov_rate.head()"
   ]
  },
  {
   "cell_type": "code",
   "execution_count": 71,
   "metadata": {},
   "outputs": [],
   "source": [
    "def plot_irs_bond(sov_df,irs_df):\n",
    "    \"\"\"\n",
    "    画图，irs与债券收益率变化柱形图\n",
    "    x为一列时间列表的df\n",
    "    \"\"\"\n",
    "    plt.figure(figsize=(10,7))\n",
    "    width=0.4\n",
    "    xx=np.array([i for i in range(len(sov_df))])\n",
    "    print(xx.shape)\n",
    "    x_tick=list(map(lambda k:str(k)[:10],sov_df.index.tolist()))\n",
    "    plt.bar(xx+width/2,sov_df['sov_rate_change']*100,width=width)\n",
    "\n",
    "#     y=df['调整幅度']\n",
    "    plt.bar(xx-width/2,irs_df['irs_change']*100,width=width)\n",
    "\n",
    "    plt.legend(['国债收益率变化','IRS利率变化'])\n",
    "    plt.xticks(xx,x,rotation=90)\n",
    "\n",
    "    plt.rcParams['font.sans-serif'] = ['SimHei']\n",
    "    plt.rcParams['axes.unicode_minus'] = False\n",
    "\n",
    "    plt.show()"
   ]
  },
  {
   "cell_type": "code",
   "execution_count": null,
   "metadata": {},
   "outputs": [],
   "source": []
  },
  {
   "cell_type": "code",
   "execution_count": 72,
   "metadata": {},
   "outputs": [
    {
     "data": {
      "text/html": [
       "<div>\n",
       "<style scoped>\n",
       "    .dataframe tbody tr th:only-of-type {\n",
       "        vertical-align: middle;\n",
       "    }\n",
       "\n",
       "    .dataframe tbody tr th {\n",
       "        vertical-align: top;\n",
       "    }\n",
       "\n",
       "    .dataframe thead th {\n",
       "        text-align: right;\n",
       "    }\n",
       "</style>\n",
       "<table border=\"1\" class=\"dataframe\">\n",
       "  <thead>\n",
       "    <tr style=\"text-align: right;\">\n",
       "      <th></th>\n",
       "      <th>sov_rate_change</th>\n",
       "      <th>irs_change</th>\n",
       "    </tr>\n",
       "  </thead>\n",
       "  <tbody>\n",
       "    <tr>\n",
       "      <th>2010-05-11</th>\n",
       "      <td>-0.0041</td>\n",
       "      <td>0.02</td>\n",
       "    </tr>\n",
       "    <tr>\n",
       "      <th>2010-08-06</th>\n",
       "      <td>-0.0143</td>\n",
       "      <td>-0.015</td>\n",
       "    </tr>\n",
       "    <tr>\n",
       "      <th>2010-11-03</th>\n",
       "      <td>0.0272</td>\n",
       "      <td>0.0657</td>\n",
       "    </tr>\n",
       "    <tr>\n",
       "      <th>2011-01-31</th>\n",
       "      <td>-0.0682</td>\n",
       "      <td>-0.045</td>\n",
       "    </tr>\n",
       "    <tr>\n",
       "      <th>2011-05-04</th>\n",
       "      <td>0.0006</td>\n",
       "      <td>0.03</td>\n",
       "    </tr>\n",
       "  </tbody>\n",
       "</table>\n",
       "</div>"
      ],
      "text/plain": [
       "           sov_rate_change irs_change\n",
       "2010-05-11         -0.0041       0.02\n",
       "2010-08-06         -0.0143     -0.015\n",
       "2010-11-03          0.0272     0.0657\n",
       "2011-01-31         -0.0682     -0.045\n",
       "2011-05-04          0.0006       0.03"
      ]
     },
     "execution_count": 72,
     "metadata": {},
     "output_type": "execute_result"
    }
   ],
   "source": [
    "def get_sov(RRR_time,tenor='3m',draw=True,sov_rate=sov_rate):\n",
    "    \"\"\"\n",
    "    tenor为期限\n",
    "    RRR_time为df格式的时间+irs变动列表\n",
    "    获得债券收益率的变化\n",
    "    \"\"\"\n",
    "\n",
    "        \n",
    "    sov=pd.DataFrame(index=RRR_time['2010-04-19':].index,columns=['t1','t0','sov_rate1','sov_rate0'])\n",
    "    for one in sov.index:\n",
    "        # 与之前类似，如果当天为交易日，则本日收盘价为冲击前利率\n",
    "        if one in sov_rate.index.tolist():\n",
    "            t0=one\n",
    "            sov_rate0=sov_rate[tenor][one]\n",
    "        else:\n",
    "            t0=sov_rate[sov_rate.index<one].index.max()\n",
    "            sov_rate0=sov_rate[tenor][t0]\n",
    "        t1=(sov_rate[sov_rate.index>one].index.min())\n",
    "        sov_rate1=sov_rate[tenor][t1]\n",
    "\n",
    "        sov.loc[one]=t1,t0,sov_rate1,sov_rate0\n",
    "    sov['sov_rate_change']=sov['sov_rate1']-sov['sov_rate0']\n",
    "    \n",
    "    if draw:\n",
    "        plot_irs_bond(sov,RRR_time)\n",
    "        pass\n",
    "    sov_and_irs=pd.concat([sov['sov_rate_change'],RRR_time['irs_change']],axis=1)\n",
    "    return sov_and_irs\n",
    "      \n",
    "sov_and_irs=get_sov(RRR_time=RRR_time_demo,draw=False)\n",
    "sov_and_irs.head()"
   ]
  },
  {
   "cell_type": "code",
   "execution_count": 73,
   "metadata": {},
   "outputs": [
    {
     "data": {
      "text/plain": [
       "(0.8819302812588182, 6.56595454115501e-05, 4.456517292762167)"
      ]
     },
     "execution_count": 73,
     "metadata": {},
     "output_type": "execute_result"
    }
   ],
   "source": [
    "import statsmodels.api as sm\n",
    "\n",
    "def reg(sov_and_irs_):\n",
    "    # 主权债收益率变化为y，irs变化为x\n",
    "    Y,X=np.array(sov_and_irs_['sov_rate_change'].tolist()),np.array(sov_and_irs_['irs_change'].tolist())\n",
    "    X=sm.add_constant(X)\n",
    "    mod=sm.OLS(Y,X)\n",
    "    res=mod.fit()\n",
    "    coef,p,t=res.params[1],res.pvalues[1],res.tvalues[1]\n",
    "    #print(coef,p)\n",
    "#     return res.summary()\n",
    "    return coef,p,t\n",
    "reg(sov_and_irs)"
   ]
  },
  {
   "cell_type": "markdown",
   "metadata": {},
   "source": [
    "/## 下面计算仍考虑当日或前一日公布消息"
   ]
  },
  {
   "cell_type": "code",
   "execution_count": 92,
   "metadata": {},
   "outputs": [
    {
     "name": "stdout",
     "output_type": "stream",
     "text": [
      "LR\n",
      "LPR\n",
      "SLO\n",
      "Repo\n",
      "SLF\n",
      "MLF\n",
      "RRR\n",
      "Report\n",
      "Meeting\n"
     ]
    }
   ],
   "source": [
    "def cal_and_reg(time_list,name='RRR',after_close=False,bond_rate=sov_rate):\n",
    "    irs_bp=irs_change(time_list,after_close=after_close,output=False)\n",
    "    tenor_list=['3m','6m','1y','3y','5y','10y']\n",
    "    est_result=pd.DataFrame(index=tenor_list,columns=[name,'P_value','T'])\n",
    "    for tenor in tenor_list:\n",
    "        sov=get_sov(irs_bp,tenor=tenor,draw=False,sov_rate=bond_rate)\n",
    "        coef,p,t=reg(sov)\n",
    "        est_result.loc[tenor]=[coef,p,t]\n",
    "    return est_result\n",
    "     \n",
    "oneday_res_dict={}\n",
    "\n",
    "for k,v in time_list_dic.items():\n",
    "    print(k)\n",
    "    time_list=v\n",
    "    res=cal_and_reg(time_list,name=k,after_close=False,bond_rate=sov_rate)\n",
    "    oneday_res_dict[k]=res\n",
    "#     print(res)"
   ]
  },
  {
   "cell_type": "code",
   "execution_count": 93,
   "metadata": {},
   "outputs": [
    {
     "name": "stdout",
     "output_type": "stream",
     "text": [
      "0.78***\t0.76***\t0.79***\t0.46***\t0.44***\t0.35***\n",
      "(8.09)\t(6.42)\t(8.71)\t(6.41)\t(6.24)\t(6.35)\n",
      "0.38*\t0.33*\t0.53***\t0.38***\t0.42***\t0.47***\n",
      "(1.73)\t(1.91)\t(2.92)\t(4.46)\t(4.67)\t(4.04)\n",
      "0.73***\t0.57***\t0.75**\t0.48**\t0.39*\t0.34\n",
      "(4.19)\t(4.7)\t(3.0)\t(3.05)\t(2.26)\t(1.56)\n",
      "0.29\t0.34\t-0.01\t0.17\t0.17\t0.09\n",
      "(0.45)\t(0.84)\t(-0.02)\t(0.5)\t(0.53)\t(0.25)\n",
      "0.25\t0.39***\t0.57***\t0.67***\t0.7***\t0.67***\n",
      "(1.49)\t(3.55)\t(6.37)\t(4.44)\t(4.21)\t(6.04)\n",
      "0.32\t0.57***\t0.75***\t0.4**\t0.47***\t0.41***\n",
      "(1.16)\t(3.01)\t(4.13)\t(2.51)\t(3.59)\t(3.87)\n",
      "0.5***\t0.62***\t0.54***\t0.52***\t0.46***\t0.28***\n",
      "(3.73)\t(4.54)\t(5.41)\t(5.3)\t(4.95)\t(2.91)\n",
      "0.88***\t1.01***\t0.84***\t0.73***\t0.8***\t0.53***\n",
      "(4.46)\t(5.57)\t(6.18)\t(6.79)\t(5.47)\t(4.65)\n",
      "0.75**\t0.08\t0.23\t0.37***\t0.32***\t0.34***\n",
      "(2.22)\t(0.36)\t(1.29)\t(2.89)\t(2.87)\t(3.44)\n"
     ]
    }
   ],
   "source": [
    "shuliang=['RRR','SLO','SLF','MLF']\n",
    "jiage=['LR','LPR','Repo']\n",
    "yuqi=['Report','Meeting']\n",
    "all_policy=shuliang+jiage+yuqi\n",
    "\n",
    "\n",
    "def oneday_add_star(df):\n",
    "    coef_list=[]\n",
    "    t_list=[]\n",
    "    for year,line in df.iterrows():\n",
    "        coef=str(round(line[0],2))\n",
    "        p=line[1]\n",
    "        t='('+str(round(line[2],2))+')'\n",
    "        if p<0.01:\n",
    "            coef+='***'\n",
    "        elif p<0.05:\n",
    "            coef+='**'\n",
    "        elif p<0.1:\n",
    "            coef+='*'\n",
    "        else:\n",
    "            coef+=''\n",
    "        coef_list.append(coef)\n",
    "        t_list.append(t)\n",
    "    print('\t'.join(coef_list))\n",
    "    print('\t'.join(t_list))\n",
    "\n",
    "for one in all_policy:\n",
    "#     print(one)\n",
    "    (oneday_add_star(oneday_res_dict[one]))\n",
    "    "
   ]
  },
  {
   "cell_type": "code",
   "execution_count": null,
   "metadata": {},
   "outputs": [],
   "source": []
  },
  {
   "cell_type": "code",
   "execution_count": 78,
   "metadata": {},
   "outputs": [],
   "source": [
    "# cal_and_reg(report_time,after_close=True)"
   ]
  },
  {
   "cell_type": "markdown",
   "metadata": {},
   "source": [
    "# 扩展到非利率债"
   ]
  },
  {
   "cell_type": "code",
   "execution_count": 79,
   "metadata": {},
   "outputs": [],
   "source": [
    "df_credit=pd.read_excel(input_path+'0228_中债中短期票据收益率曲线.xls',index_col=0).iloc[1:-2]\n",
    "df_credit.index=pd.DatetimeIndex(df_credit.index)\n",
    "df_credit['2010':'2020']\n",
    "credit_note=df_credit['2010':'2020'].iloc[:,:6]\n",
    "credit_cor=df_credit['2010':'2020'].iloc[:,6:]\n",
    "credit_note.columns='3m\t6m\t1y\t3y\t5y\t10y'.split('\t')\n",
    "credit_cor.columns='3m\t6m\t1y\t3y\t5y\t10y'.split('\t')"
   ]
  },
  {
   "cell_type": "code",
   "execution_count": 80,
   "metadata": {},
   "outputs": [
    {
     "data": {
      "text/plain": [
       "Text(0, 0.5, '到期收益率（%）')"
      ]
     },
     "execution_count": 80,
     "metadata": {},
     "output_type": "execute_result"
    },
    {
     "data": {
      "image/png": "[encoded data removed]",
      "text/plain": [
       "<Figure size 432x288 with 1 Axes>"
      ]
     },
     "metadata": {},
     "output_type": "display_data"
    }
   ],
   "source": [
    "credit_cor.iloc[:,-1].plot()\n",
    "credit_note.iloc[:,-1].plot()\n",
    "plt.legend(['企业债','中短期票据'])\n",
    "plt.xlabel('时间')\n",
    "plt.ylabel('到期收益率（%）')"
   ]
  },
  {
   "cell_type": "code",
   "execution_count": 81,
   "metadata": {},
   "outputs": [
    {
     "data": {
      "text/plain": [
       "指标名称\n",
       "2010-06-11       4.6\n",
       "2010-06-12    4.5925\n",
       "2010-06-13    4.5935\n",
       "2010-06-17    4.5958\n",
       "2010-06-18       4.6\n",
       "               ...  \n",
       "2020-12-25     3.967\n",
       "2020-12-28     3.952\n",
       "2020-12-29    3.9171\n",
       "2020-12-30    3.9071\n",
       "2020-12-31    3.9103\n",
       "Name: 10y, Length: 2642, dtype: object"
      ]
     },
     "execution_count": 81,
     "metadata": {},
     "output_type": "execute_result"
    }
   ],
   "source": [
    "for k,v in time_list_dic.items():\n",
    "    print(k)\n",
    "    time_list=v\n",
    "    res=cal_and_reg(time_list,name=k,after_close=False,bond_rate=sov_rate)\n",
    "    oneday_res_dict[k]=res\n",
    "#     print(res)\n",
    "\n",
    "for one in all_policy:\n",
    "#     print(one)\n",
    "    (oneday_add_star(oneday_res_dict[one]))\n",
    "    "
   ]
  },
  {
   "cell_type": "markdown",
   "metadata": {},
   "source": [
    "## 下面计算仍考虑当日或前一日公布消息"
   ]
  },
  {
   "cell_type": "code",
   "execution_count": 82,
   "metadata": {},
   "outputs": [],
   "source": [
    "def cal_and_reg(time_list,name='RRR',sov_rate=credit_note):\n",
    "    irs_bp=irs_change(time_list,after_close=False,output=False)\n",
    "    tenor_list=['3m','6m','1y','3y','5y','10y']\n",
    "    est_result=pd.DataFrame(index=tenor_list,columns=[name,'P_value','T'])\n",
    "    for tenor in tenor_list:\n",
    "        sov=get_sov(irs_bp,tenor=tenor,draw=False,sov_rate=sov_rate)\n",
    "        coef,p,t=reg(sov)\n",
    "        est_result.loc[tenor]=[coef,p,t]\n",
    "    return est_result\n",
    "     "
   ]
  },
  {
   "cell_type": "code",
   "execution_count": 113,
   "metadata": {},
   "outputs": [
    {
     "name": "stdout",
     "output_type": "stream",
     "text": [
      "LR\n",
      "           LR      P_value        T\n",
      "3m   0.417703    0.0056094  3.43138\n",
      "6m   0.505618   0.00696167  3.30934\n",
      "1y   0.592354   0.00166051  4.13411\n",
      "3y   0.735702   3.4421e-05   6.6856\n",
      "5y    0.89158  3.00039e-05  6.78824\n",
      "10y  0.705606  6.41125e-06  8.01574\n",
      "LPR\n",
      "          LPR      P_value        T\n",
      "3m   0.741761   0.00869981  2.92436\n",
      "6m    0.53897    0.0630738  1.97423\n",
      "1y   0.671745    0.0172172  2.60991\n",
      "3y   0.676028   0.00122454  3.79468\n",
      "5y   0.829137  0.000302528  4.40748\n",
      "10y  0.556456  3.70347e-05  5.34463\n",
      "SLO\n",
      "          SLO     P_value         T\n",
      "3m    1.71216  0.00437746   3.17549\n",
      "6m    1.03752   0.0320944   2.28826\n",
      "1y    0.86547   0.0161526   2.60536\n",
      "3y   0.173012    0.555705  0.598369\n",
      "5y   0.471646   0.0885123   1.78228\n",
      "10y   0.46487   0.0349812   2.24729\n",
      "Repo\n",
      "         Repo      P_value        T\n",
      "3m   0.717859  1.96754e-05  4.68841\n",
      "6m   0.576455  6.47709e-05   4.3382\n",
      "1y   0.552373  0.000124593  4.14124\n",
      "3y   0.372606   0.00119414  3.42505\n",
      "5y   0.454065  0.000365937  3.80775\n",
      "10y  0.284372   0.00114665  3.43853\n",
      "SLF\n",
      "          SLF    P_value        T\n",
      "3m    1.02815  0.0209961   2.8648\n",
      "6m    0.75489  0.0399395  2.44995\n",
      "1y   0.692575   0.068896  2.10039\n",
      "3y   0.483426   0.124734  1.71475\n",
      "5y   0.563201  0.0491088  2.31752\n",
      "10y  0.168772    0.14077  1.63461\n",
      "MLF\n",
      "            MLF   P_value          T\n",
      "3m      0.11543  0.838401   0.208067\n",
      "6m     0.299405  0.605566   0.529229\n",
      "1y    0.0623127  0.898157   0.130515\n",
      "3y    0.0232254  0.963786  0.0462852\n",
      "5y    0.0518442  0.893465   0.136567\n",
      "10y -0.00398841  0.990479 -0.0121643\n",
      "Note\n",
      "         Note     P_value         T\n",
      "3m   0.239847    0.506475  0.681822\n",
      "6m   0.617707  0.00859782   3.05304\n",
      "1y   0.295537    0.173345   1.43466\n",
      "3y    0.20369    0.221516   1.27951\n",
      "5y   0.323327   0.0420364   2.23745\n",
      "10y       NaN         NaN       NaN\n"
     ]
    }
   ],
   "source": [
    "for k,v in range_dic.items():\n",
    "    print(k)\n",
    "    change_time_df=df_time.iloc[:,v[0]:v[1]+1]\n",
    "    time_list=(get_time_list(change_time_df))\n",
    "    res=cal_and_reg(time_list,name=k)\n",
    "    print(res)"
   ]
  },
  {
   "cell_type": "code",
   "execution_count": 95,
   "metadata": {},
   "outputs": [],
   "source": [
    "# cal_and_reg(report_time);"
   ]
  },
  {
   "cell_type": "code",
   "execution_count": 86,
   "metadata": {},
   "outputs": [],
   "source": [
    "# rrr_time=['2010-01-12',\n",
    "#  '2010-02-12',\n",
    "#  '2010-05-02',\n",
    "#  '2010-11-10',\n",
    "#  '2010-11-19',\n",
    "#  '2010-12-10',\n",
    "#  '2011-01-14',\n",
    "#  '2011-02-18',\n",
    "#  '2011-03-18',\n",
    "#  '2011-04-17',\n",
    "#  '2011-05-12',\n",
    "#  '2011-06-14',\n",
    "#  '2011-11-30',\n",
    "#  '2012-02-18',\n",
    "#  '2012-05-12',\n",
    "#  '2014-04-22',\n",
    "#  '2014-06-09',\n",
    "#  '2015-02-04',\n",
    "#  '2015-04-19',\n",
    "#  '2015-06-27',\n",
    "#  '2015-08-25',\n",
    "#  '2015-10-23',\n",
    "#  '2016-02-29',\n",
    "#  '2017-09-30',\n",
    "#  '2018-04-17',\n",
    "#  '2018-06-24',\n",
    "#  '2018-10-06',\n",
    "#  '2019-01-04',\n",
    "#  '2019-05-05',\n",
    "#  '2019-09-06',\n",
    "#  '2020-01-01',\n",
    "#  '2020-03-13',\n",
    "#  '2020-04-03']"
   ]
  },
  {
   "cell_type": "code",
   "execution_count": 87,
   "metadata": {},
   "outputs": [
    {
     "data": {
      "text/html": [
       "<div>\n",
       "<style scoped>\n",
       "    .dataframe tbody tr th:only-of-type {\n",
       "        vertical-align: middle;\n",
       "    }\n",
       "\n",
       "    .dataframe tbody tr th {\n",
       "        vertical-align: top;\n",
       "    }\n",
       "\n",
       "    .dataframe thead th {\n",
       "        text-align: right;\n",
       "    }\n",
       "</style>\n",
       "<table border=\"1\" class=\"dataframe\">\n",
       "  <thead>\n",
       "    <tr style=\"text-align: right;\">\n",
       "      <th></th>\n",
       "      <th>RRR</th>\n",
       "      <th>P_value</th>\n",
       "      <th>T</th>\n",
       "    </tr>\n",
       "  </thead>\n",
       "  <tbody>\n",
       "    <tr>\n",
       "      <th>3m</th>\n",
       "      <td>0.650396</td>\n",
       "      <td>1.1811e-07</td>\n",
       "      <td>6.96277</td>\n",
       "    </tr>\n",
       "    <tr>\n",
       "      <th>6m</th>\n",
       "      <td>0.647526</td>\n",
       "      <td>7.29788e-07</td>\n",
       "      <td>6.28561</td>\n",
       "    </tr>\n",
       "    <tr>\n",
       "      <th>1y</th>\n",
       "      <td>0.673834</td>\n",
       "      <td>1.42296e-08</td>\n",
       "      <td>7.77429</td>\n",
       "    </tr>\n",
       "    <tr>\n",
       "      <th>3y</th>\n",
       "      <td>0.416732</td>\n",
       "      <td>8.22653e-07</td>\n",
       "      <td>6.24162</td>\n",
       "    </tr>\n",
       "    <tr>\n",
       "      <th>5y</th>\n",
       "      <td>0.390791</td>\n",
       "      <td>3.07142e-07</td>\n",
       "      <td>6.60532</td>\n",
       "    </tr>\n",
       "    <tr>\n",
       "      <th>10y</th>\n",
       "      <td>0.320117</td>\n",
       "      <td>1.49707e-07</td>\n",
       "      <td>6.87363</td>\n",
       "    </tr>\n",
       "  </tbody>\n",
       "</table>\n",
       "</div>"
      ],
      "text/plain": [
       "          RRR      P_value        T\n",
       "3m   0.650396   1.1811e-07  6.96277\n",
       "6m   0.647526  7.29788e-07  6.28561\n",
       "1y   0.673834  1.42296e-08  7.77429\n",
       "3y   0.416732  8.22653e-07  6.24162\n",
       "5y   0.390791  3.07142e-07  6.60532\n",
       "10y  0.320117  1.49707e-07  6.87363"
      ]
     },
     "execution_count": 87,
     "metadata": {},
     "output_type": "execute_result"
    }
   ],
   "source": [
    "cal_and_reg(rrr_time)"
   ]
  },
  {
   "cell_type": "code",
   "execution_count": 117,
   "metadata": {},
   "outputs": [],
   "source": [
    "# time_list_dic={}\n",
    "\n",
    "# for k,v in range_dic.items():\n",
    "#     print(k)\n",
    "#     change_time_df=df_time.iloc[:,v[0]:v[1]+1]\n",
    "#     time_list=(get_time_list(change_time_df))\n",
    "#     irs_change_df=irs_change(time_list,output=False)\n",
    "#     time_list_dic[k]=irs_change_df['irs_change']\n",
    "# #     print(res)\n",
    "# time_list_dic"
   ]
  },
  {
   "cell_type": "markdown",
   "metadata": {},
   "source": [
    "## 接下来我们将一日响应扩大到多日响应\n"
   ]
  },
  {
   "cell_type": "code",
   "execution_count": 118,
   "metadata": {},
   "outputs": [],
   "source": [
    "def get_sov_nday(RRR_time=RRR_time_demo,days=1,tenor='3m',draw=True,sov_rate=credit_cor):\n",
    "    \"\"\"\n",
    "    tenor为期限\n",
    "    RRR_time为df格式的时间+irs变动列表\n",
    "    获得债券收益率的变化\n",
    "    \"\"\"\n",
    "\n",
    "        \n",
    "    sov=pd.DataFrame(index=RRR_time['2010-04-19':].index,columns=['t1','t0','sov_rate1','sov_rate0'])\n",
    "    for one in sov.index:\n",
    "        # 与之前类似，如果当天为交易日，则本日收盘价为冲击前利率\n",
    "        if one in sov_rate.index.tolist():\n",
    "            t0=one\n",
    "            sov_rate0=sov_rate[tenor][one]\n",
    "        else:\n",
    "            t0=sov_rate[sov_rate.index<one].index.max()\n",
    "            sov_rate0=sov_rate[tenor][t0]\n",
    "            \n",
    "        t1=(sov_rate[sov_rate.index>one].index[days-1]) #主要修改了这里，n日响应对应index的n-1\n",
    "        sov_rate1=sov_rate[tenor][t1]\n",
    "\n",
    "        sov.loc[one]=t1,t0,sov_rate1,sov_rate0\n",
    "    sov['sov_rate_change']=sov['sov_rate1']-sov['sov_rate0']\n",
    "    \n",
    "    if draw:\n",
    "        plot_irs_bond(sov,RRR_time)\n",
    "        pass\n",
    "    sov_and_irs=pd.concat([sov['sov_rate_change'],RRR_time['irs_change']],axis=1)\n",
    "    return sov_and_irs\n",
    "      \n",
    "# sov_n=get_sov_nday(tenor='3m',days=1)\n",
    "# sov_n;"
   ]
  },
  {
   "cell_type": "code",
   "execution_count": 119,
   "metadata": {},
   "outputs": [],
   "source": [
    "# RRR_time_demo"
   ]
  },
  {
   "cell_type": "code",
   "execution_count": 120,
   "metadata": {},
   "outputs": [],
   "source": [
    "# def get_sov_nday(RRR_time=RRR_time_demo,days=1,tenor='3m',draw=True,sov_rate=sov_rate):\n",
    "#     sov=pd.DataFrame(index=RRR_time['2010-04-19':].index,columns=['t1','t0','sov_rate1','sov_rate0'])\n",
    "\n",
    "#     for one in sov.index:\n",
    "#         if one in sov_rate.index.tolist():\n",
    "#             t0=one\n",
    "#             sov_rate0=sov_rate[tenor][one]\n",
    "#         else:\n",
    "#             t0=sov_rate[sov_rate.index<one].index.max()\n",
    "#             sov_rate0=sov_rate[tenor][t0]\n",
    "            \n",
    "#         t1=(sov_rate[sov_rate.index>one].index[days-1]) #主要修改了这里，n日响应对应index的n-1\n",
    "#         sov_rate1=sov_rate[tenor][t1]\n",
    "\n",
    "#         sov.loc[one]=t1,t0,sov_rate1,sov_rate0\n",
    "#     sov['sov_rate_change']=sov['sov_rate1']-sov['sov_rate0']\n",
    "#     return sov\n",
    "# sov_n=get_sov_nday(tenor='3m',days=1)\n",
    "# sov_n;"
   ]
  },
  {
   "cell_type": "code",
   "execution_count": 123,
   "metadata": {},
   "outputs": [],
   "source": [
    "def get_one_policy(irs_change_df,sov_rate=credit_cor):\n",
    "    \"\"\"\n",
    "    一个货币政策对多个期限的冲击\n",
    "    \"\"\"\n",
    "    tenor_list=['3m','6m','1y','3y','5y','10y']\n",
    "    # 1-7天的冲击\n",
    "    day_list=[i for i in range(1,8)]\n",
    "    est_result_nday=pd.DataFrame(index=tenor_list,columns=day_list)\n",
    "    for tenor in tenor_list:\n",
    "        for day in day_list:\n",
    "            print('.',end='')\n",
    "            sov=get_sov_nday(RRR_time=irs_change_df,sov_rate=sov_rate,tenor=tenor,days=day,draw=False) # 多日主权债收益率变化\n",
    "            coef,p,t=reg(sov) #主权债收益率变化与irs变化回归\n",
    "            est_result_nday.loc[tenor,day]=coef # 放入df中\n",
    "        print(tenor)\n",
    "    return est_result_nday\n",
    "\n",
    "# get_one_policy('')"
   ]
  },
  {
   "cell_type": "code",
   "execution_count": 124,
   "metadata": {},
   "outputs": [
    {
     "name": "stdout",
     "output_type": "stream",
     "text": [
      "运行时间有点久！\n",
      "LR\n",
      ".......3m\n",
      ".......6m\n",
      ".......1y\n",
      ".......3y\n",
      ".......5y\n",
      ".......10y\n",
      "LPR\n",
      ".......3m\n",
      ".......6m\n",
      ".......1y\n",
      ".......3y\n",
      ".......5y\n",
      ".......10y\n",
      "SLO\n",
      ".......3m\n",
      ".......6m\n",
      ".......1y\n",
      ".......3y\n",
      ".......5y\n",
      ".......10y\n",
      "Repo\n",
      ".......3m\n",
      ".......6m\n",
      ".......1y\n",
      ".......3y\n",
      ".......5y\n",
      ".......10y\n",
      "SLF\n",
      ".......3m\n",
      ".......6m\n",
      ".......1y\n",
      ".......3y\n",
      ".......5y\n",
      ".......10y\n",
      "MLF\n",
      ".......3m\n",
      ".......6m\n",
      ".......1y\n",
      ".......3y\n",
      ".......5y\n",
      ".......10y\n",
      "Note\n",
      ".......3m\n",
      ".......6m\n",
      ".......1y\n",
      ".......3y\n",
      ".......5y\n",
      ".......10y\n"
     ]
    }
   ],
   "source": [
    "res_dic={}\n",
    "\n",
    "\n",
    "print('运行时间有点久！')\n",
    "for k,v in range_dic.items():\n",
    "    print(k)\n",
    "    change_time_df=df_time.iloc[:,v[0]:v[1]+1]\n",
    "    time_list=(get_time_list(change_time_df))\n",
    "    irs_change_df=irs_change(time_list,after_close=False,output=False)\n",
    "    res=get_one_policy(irs_change_df)\n",
    "    res_dic[k]=res\n",
    "#     print(res)\n",
    "    "
   ]
  },
  {
   "cell_type": "code",
   "execution_count": 125,
   "metadata": {},
   "outputs": [
    {
     "name": "stdout",
     "output_type": "stream",
     "text": [
      ".......3m\n",
      ".......6m\n",
      ".......1y\n",
      ".......3y\n",
      ".......5y\n",
      ".......10y\n",
      "            1         2         3         4        5        6        7\n",
      "3m   0.669582   1.59351   1.89058   2.52198  3.16509  3.65652  3.75128\n",
      "6m   0.270058  0.915523  0.977093   1.32029  1.51825  1.66415  1.77367\n",
      "1y   0.426978  0.959213  0.899924   1.41344  1.54617  1.71744  1.83321\n",
      "3y   0.703914   1.14538   1.20385   1.53846  1.74813   1.9901  2.25886\n",
      "5y   0.606797   1.12552   1.29673   1.53829   1.6933  1.92648  2.04491\n",
      "10y  0.332745   0.55885  0.717924  0.908704  1.04485  1.14595  1.27611\n"
     ]
    }
   ],
   "source": [
    "# 货币政策报告\n",
    "time_list=report_time\n",
    "irs_change_df=irs_change(time_list,output=False)\n",
    "report_res=get_one_policy(irs_change_df)\n",
    "print(report_res)"
   ]
  },
  {
   "cell_type": "code",
   "execution_count": 126,
   "metadata": {},
   "outputs": [],
   "source": [
    "res_dic['Report']=report_res"
   ]
  },
  {
   "cell_type": "code",
   "execution_count": 127,
   "metadata": {},
   "outputs": [
    {
     "name": "stdout",
     "output_type": "stream",
     "text": [
      ".......3m\n",
      ".......6m\n",
      ".......1y\n",
      ".......3y\n",
      ".......5y\n",
      ".......10y\n",
      "            1         2         3         4         5         6         7\n",
      "3m   0.735722  0.959907   1.14394    1.8744   1.97863   2.09694   2.32282\n",
      "6m    0.73095  0.988256   1.14178   1.22032   1.21313    1.2368   1.35343\n",
      "1y     0.6639  0.930451   1.09427    1.1876   1.20725   1.23146   1.31254\n",
      "3y   0.499762  0.684109  0.768128  0.788719  0.840387  0.870424  0.926834\n",
      "5y    0.44617  0.619288  0.696791  0.703199  0.741396  0.775187  0.824883\n",
      "10y  0.361757  0.503134  0.518634   0.52076  0.526299  0.540911  0.588738\n"
     ]
    }
   ],
   "source": [
    "# RRR\n",
    "time_list=rrr_time\n",
    "irs_change_df=irs_change(time_list,output=False)\n",
    "rrr_res=get_one_policy(irs_change_df)\n",
    "print(rrr_res)"
   ]
  },
  {
   "cell_type": "code",
   "execution_count": null,
   "metadata": {},
   "outputs": [],
   "source": []
  },
  {
   "cell_type": "code",
   "execution_count": 128,
   "metadata": {},
   "outputs": [
    {
     "data": {
      "image/png": "[encoded data removed]",
      "text/plain": [
       "<Figure size 432x288 with 1 Axes>"
      ]
     },
     "metadata": {},
     "output_type": "display_data"
    }
   ],
   "source": [
    "sns.set_style(\"whitegrid\")\n",
    "plt.rcParams['font.sans-serif'] = ['SimHei']\n",
    "plt.rcParams['axes.unicode_minus'] = False\n",
    "def draw_nday(est_result_nday,xlabel='天数'):\n",
    "\n",
    "#     plt.figure(figsize=(7,4))\n",
    "    plt.plot(est_result_nday.T)\n",
    "    # plt.title('货币政策意(执行报告)外对于各期限国债收益率的影响',size=20)\n",
    "    plt.legend(est_result_nday.index)\n",
    "    # plt.grid()\n",
    "    plt.xlabel(xlabel)\n",
    "#     plt.ylabel('债券响应系数')\n",
    "\n",
    "    plt.xlim(1,7)\n",
    "    plt.ylim(-0.5,2)\n",
    "#     plt.show()\n",
    "draw_nday(rrr_res)"
   ]
  },
  {
   "cell_type": "code",
   "execution_count": 129,
   "metadata": {},
   "outputs": [],
   "source": [
    "res_dic;"
   ]
  },
  {
   "cell_type": "code",
   "execution_count": 130,
   "metadata": {},
   "outputs": [
    {
     "data": {
      "image/png": "[encoded data removed]",
      "text/plain": [
       "<Figure size 1008x1296 with 8 Axes>"
      ]
     },
     "metadata": {},
     "output_type": "display_data"
    }
   ],
   "source": [
    "i=1\n",
    "plt.figure(figsize=(14,18))\n",
    "for k,v in res_dic.items():\n",
    "    plt.subplot(4,2,i)\n",
    "    draw_nday(v,xlabel=k)\n",
    "    i+=1\n",
    "plt.savefig('货币政策冲击.svg')"
   ]
  },
  {
   "cell_type": "markdown",
   "metadata": {},
   "source": [
    "# 转变为月度数据\n"
   ]
  },
  {
   "cell_type": "code",
   "execution_count": null,
   "metadata": {},
   "outputs": [],
   "source": []
  },
  {
   "cell_type": "code",
   "execution_count": null,
   "metadata": {},
   "outputs": [],
   "source": [
    "year_index=[]\n",
    "for year in range(2010,2021):\n",
    "    for month in range(1,13):\n",
    "        year_index.append('{}-{}'.format(year,str(month).zfill(2)))\n",
    "\n",
    "\n",
    "def get_month_line(irs_one):\n",
    "    # 新建一个df\n",
    "    month_df=pd.DataFrame(index=year_index)\n",
    "    # 计算月度累计\n",
    "#     irs_one=irs_change(v,output=False)\n",
    "    irs_one.index=pd.DatetimeIndex(irs_one.index)\n",
    "    for month in month_df.index:\n",
    "        try:\n",
    "            one_month_change=irs_one[month]['irs_change'].sum()\n",
    "        except:\n",
    "            one_month_change=0\n",
    "        month_df.loc[month,'this']=one_month_change\n",
    "    return month_df\n",
    "\n",
    "\n",
    "def get_half_month_line(irs_one):\n",
    "    # 新建一个df\n",
    "    month_df=pd.DataFrame(index=year_index)\n",
    "    # 计算月度累计\n",
    "#     irs_one=irs_change(v,output=False)\n",
    "    irs_one.index=pd.DatetimeIndex(irs_one.index)\n",
    "    for i,month in enumerate(month_df.index):\n",
    "        try:\n",
    "            one_month_change=irs_one[month_df[i-1]+'-15':month+'-15']['irs_change'].sum()\n",
    "        except:\n",
    "            one_month_change=0\n",
    "        month_df.loc[month,'this']=one_month_change\n",
    "    return month_df"
   ]
  },
  {
   "cell_type": "code",
   "execution_count": null,
   "metadata": {},
   "outputs": [],
   "source": [
    "pd.Series(v.index.tolist())>'2010-04-19'"
   ]
  },
  {
   "cell_type": "code",
   "execution_count": null,
   "metadata": {},
   "outputs": [],
   "source": [
    "\n",
    "def irs_change(new_rrr_time:str,output=True,after_close=True):\n",
    "    \"\"\"\n",
    "    输入时间数据，返回IRS冲击响应\n",
    "    after_close：默认为True，表示货币政策公布时点为当日收盘后\n",
    "    \"\"\"\n",
    "    change=pd.DataFrame(index=pd.Series(new_rrr_time)[pd.Series(new_rrr_time)>'2010-04-19'],columns=['t1','t0','irs1','irs0'])\n",
    "    \n",
    "    \n",
    "    ## 重大bug!!,下面的if循环！！，之前的文件里，change的index格式为datetime，此处为str，已经修正为适合str\n",
    "    \n",
    "    \n",
    "#     print(change)\n",
    "    for one in change.index:\n",
    "        # 当天收盘后才公布IRS,如果当天存在（为交易日）则当天收盘价为初始irs\n",
    "        if after_close:\n",
    "            if one in list(map(lambda x : str(x)[:10],irs.index)):\n",
    "                t0=one\n",
    "                irs0=irs['收盘价'][one]\n",
    "            # 否则前一天为初始irs\n",
    "            else:\n",
    "                t0=irs[irs.index<one].index.max()\n",
    "                irs0=irs['收盘价'][t0]\n",
    "            # 冲击后irs为后一天irs\n",
    "            t1=(irs[irs.index>one].index.min())\n",
    "            irs1=irs['收盘价'][t1]\n",
    "        else: # 在当日交易中公布的信息\n",
    "            if one in list(map(lambda x : str(x)[:10],irs.index)):\n",
    "                t1=one\n",
    "                irs1=irs['收盘价'][one]\n",
    "            # 否则前一天为初始irs\n",
    "            else:\n",
    "                t1=irs[irs.index>one].index.min()\n",
    "                irs1=irs['收盘价'][t1]\n",
    "            # 冲击后irs为后一天irs\n",
    "            t0=(irs[irs.index<one].index.max())\n",
    "            irs0=irs['收盘价'][t0]\n",
    "        \n",
    "        t0,t1=str(t0)[:10],str(t1)[:10]\n",
    "#         print(one,t1,t0,irs1,irs0)\n",
    "        \n",
    "        change.loc[one]=[t1,t0,irs1,irs0]\n",
    "#         change.loc[one]=[1,2,3,4]\n",
    "\n",
    "    change['irs_change']=change['irs1']-change['irs0']\n",
    "    \n",
    "    return change\n",
    "\n",
    "# irs_change(['2011-01-01','2013-02-03'])['irs_change'].std()"
   ]
  },
  {
   "cell_type": "code",
   "execution_count": null,
   "metadata": {},
   "outputs": [],
   "source": [
    "# 新建一个all_month_df\n",
    "\n",
    "all_month_df=pd.DataFrame(index=year_index)\n",
    "\n",
    "\n",
    "for k,v in time_list_dic.items():\n",
    "    print(k)\n",
    "    if k!='RRR' or k!='Report':\n",
    "        irs_one=(irs_change(v,output=False))\n",
    "    else:\n",
    "        irs_one=irs_change(v,output=False,after_close=False)\n",
    "    all_month_df[k]=get_month_line(irs_one)\n",
    "    \n",
    "all_month_df=all_month_df['2010-07':'2020-06']\n",
    "all_month_df"
   ]
  },
  {
   "cell_type": "code",
   "execution_count": null,
   "metadata": {},
   "outputs": [],
   "source": []
  },
  {
   "cell_type": "code",
   "execution_count": null,
   "metadata": {},
   "outputs": [],
   "source": [
    "def get_half_month_line(irs_one):\n",
    "    # 新建一个df\n",
    "    month_df=pd.DataFrame(index=year_index)\n",
    "    # 计算月度累计\n",
    "#     irs_one=irs_change(v,output=False)\n",
    "    irs_one.index=pd.DatetimeIndex(irs_one.index)\n",
    "    for i,month in enumerate(month_df.index):\n",
    "        try:\n",
    "            if i==0:\n",
    "                one_month_change=irs_one[month_df.index[i]+'-01':month+'-15']['irs_change'].sum()\n",
    "            else:\n",
    "                one_month_change=irs_one[month_df.index[i-1]+'-15':month+'-15']['irs_change'].sum()\n",
    "        except Exception as e:\n",
    "            traceback.print_exc()\n",
    "            break\n",
    "            one_month_change=0\n",
    "        month_df.loc[month,'this']=one_month_change\n",
    "    return month_df\n",
    "get_half_month_line(irs_one)"
   ]
  },
  {
   "cell_type": "code",
   "execution_count": null,
   "metadata": {},
   "outputs": [],
   "source": [
    "# 新建一个all_month_df\n",
    "import traceback\n",
    "all_half_month_df=pd.DataFrame(index=year_index)\n",
    "\n",
    "\n",
    "for k,v in time_list_dic.items():\n",
    "    print(k)\n",
    "    if k!='RRR' or k!='Report':\n",
    "        irs_one=(irs_change(v,output=False))\n",
    "    else:\n",
    "        irs_one=irs_change(v,output=False,after_close=False)\n",
    "    all_half_month_df[k]=get_half_month_line(irs_one).iloc[:,0].tolist()\n",
    "    \n",
    "all_half_month_df=all_half_month_df['2010-07':'2020-06']"
   ]
  },
  {
   "cell_type": "code",
   "execution_count": null,
   "metadata": {},
   "outputs": [],
   "source": [
    "all_half_month_df"
   ]
  },
  {
   "cell_type": "code",
   "execution_count": null,
   "metadata": {},
   "outputs": [],
   "source": [
    "all_half_month_df.to_excel('VAR_半月_程序输出.xlsx')"
   ]
  },
  {
   "cell_type": "code",
   "execution_count": null,
   "metadata": {},
   "outputs": [],
   "source": [
    "all_month_df.to_excel('VAR_一月_程序输出.xlsx')"
   ]
  },
  {
   "cell_type": "code",
   "execution_count": null,
   "metadata": {},
   "outputs": [],
   "source": [
    "from statsmodels.tsa.stattools import adfuller\n",
    "\n",
    "for one in all_month_df.columns:\n",
    "    if one[:2]=='d_':\n",
    "        continue\n",
    "    p_value=(adfuller(all_month_df[one])[1])\n",
    "    print(one,round(p_value,9))\n",
    "\n",
    "#     if p_value>0.1:\n",
    "#         cpi['d_'+one]=cpi[one]-cpi[one].shift(1)\n",
    "#     else:\n",
    "# #         print(one)\n",
    "#         pass\n",
    "# cpi=cpi.dropna()\n",
    "# cpi"
   ]
  },
  {
   "cell_type": "code",
   "execution_count": null,
   "metadata": {},
   "outputs": [],
   "source": [
    "# all_month_df.to_excel('初始_VAR用_货币政策月度.xlsx')"
   ]
  },
  {
   "cell_type": "code",
   "execution_count": null,
   "metadata": {},
   "outputs": [],
   "source": [
    "all_half_month_df.sum(axis=1).rolling(10).mean().plot()"
   ]
  },
  {
   "cell_type": "code",
   "execution_count": null,
   "metadata": {},
   "outputs": [],
   "source": [
    "irs['2010':'2020-06'].plot()\n"
   ]
  },
  {
   "cell_type": "code",
   "execution_count": null,
   "metadata": {},
   "outputs": [],
   "source": [
    "lr_change=lr-lr.shift(1)\n",
    "lr_change"
   ]
  },
  {
   "cell_type": "code",
   "execution_count": null,
   "metadata": {},
   "outputs": [],
   "source": [
    "lr_time=list(map(lambda x:str(x)[:10],lr_change.index.tolist()))\n",
    "a=irs_change(lr_time)['irs_change']"
   ]
  },
  {
   "cell_type": "code",
   "execution_count": null,
   "metadata": {},
   "outputs": [],
   "source": [
    "lr_change['irs_change']=a\n",
    "lr_change.columns=['存款基准利率变化','IRS变化']"
   ]
  },
  {
   "cell_type": "code",
   "execution_count": null,
   "metadata": {},
   "outputs": [],
   "source": [
    "lr_change[['IRS变化','存款基准利率变化']][1:].plot.bar()\n",
    "plt.xlabel('时间')\n",
    "\n",
    "x_tick=list(map(lambda x:str(x)[:10],lr_change[1:].index.to_list()))\n",
    "plt.xticks(x_tick)\n",
    "plt.show()"
   ]
  },
  {
   "cell_type": "markdown",
   "metadata": {},
   "source": [
    "## 汇总结果\n"
   ]
  },
  {
   "cell_type": "code",
   "execution_count": null,
   "metadata": {},
   "outputs": [],
   "source": [
    "tot_time_list=[]\n",
    "for k,v in time_list_dic.items():\n",
    "    tot_time_list+=v.index.to_list()\n",
    "tot_time_list+=new_rrr_time\n",
    "tot_time_list+=report_time\n",
    "tot_time_list=list(set(tot_time_list))\n",
    "tot_time_list.sort()\n",
    "tot_time_list[:10]"
   ]
  },
  {
   "cell_type": "code",
   "execution_count": null,
   "metadata": {},
   "outputs": [],
   "source": []
  },
  {
   "cell_type": "code",
   "execution_count": null,
   "metadata": {},
   "outputs": [],
   "source": [
    "sov_rate"
   ]
  },
  {
   "cell_type": "code",
   "execution_count": 142,
   "metadata": {},
   "outputs": [
    {
     "data": {
      "text/html": [
       "<div>\n",
       "<style scoped>\n",
       "    .dataframe tbody tr th:only-of-type {\n",
       "        vertical-align: middle;\n",
       "    }\n",
       "\n",
       "    .dataframe tbody tr th {\n",
       "        vertical-align: top;\n",
       "    }\n",
       "\n",
       "    .dataframe thead th {\n",
       "        text-align: right;\n",
       "    }\n",
       "</style>\n",
       "<table border=\"1\" class=\"dataframe\">\n",
       "  <thead>\n",
       "    <tr style=\"text-align: right;\">\n",
       "      <th></th>\n",
       "      <th>RRR</th>\n",
       "      <th>P_value</th>\n",
       "    </tr>\n",
       "  </thead>\n",
       "  <tbody>\n",
       "    <tr>\n",
       "      <th>3m</th>\n",
       "      <td>0.540045</td>\n",
       "      <td>1.62974e-11</td>\n",
       "    </tr>\n",
       "    <tr>\n",
       "      <th>6m</th>\n",
       "      <td>0.549835</td>\n",
       "      <td>5.8967e-15</td>\n",
       "    </tr>\n",
       "    <tr>\n",
       "      <th>1y</th>\n",
       "      <td>0.599402</td>\n",
       "      <td>9.50893e-19</td>\n",
       "    </tr>\n",
       "    <tr>\n",
       "      <th>3y</th>\n",
       "      <td>0.473746</td>\n",
       "      <td>1.9781e-20</td>\n",
       "    </tr>\n",
       "    <tr>\n",
       "      <th>5y</th>\n",
       "      <td>0.482935</td>\n",
       "      <td>6.10024e-19</td>\n",
       "    </tr>\n",
       "    <tr>\n",
       "      <th>10y</th>\n",
       "      <td>0.412148</td>\n",
       "      <td>4.86014e-19</td>\n",
       "    </tr>\n",
       "  </tbody>\n",
       "</table>\n",
       "</div>"
      ],
      "text/plain": [
       "          RRR      P_value\n",
       "3m   0.540045  1.62974e-11\n",
       "6m   0.549835   5.8967e-15\n",
       "1y   0.599402  9.50893e-19\n",
       "3y   0.473746   1.9781e-20\n",
       "5y   0.482935  6.10024e-19\n",
       "10y  0.412148  4.86014e-19"
      ]
     },
     "execution_count": 142,
     "metadata": {},
     "output_type": "execute_result"
    }
   ],
   "source": [
    "def cal_and_reg(time_list,name='RRR',sov_rate=credit_note):\n",
    "    irs_bp=irs_change(time_list,output=False)\n",
    "    tenor_list=['3m','6m','1y','3y','5y','10y']\n",
    "    est_result=pd.DataFrame(index=tenor_list,columns=[name,'P_value'])\n",
    "    for tenor in tenor_list:\n",
    "        sov=get_sov(irs_bp,tenor=tenor,draw=False,sov_rate=sov_rate)\n",
    "        coef,p=reg(sov)\n",
    "        est_result.loc[tenor]=[coef,p]\n",
    "    return est_result\n",
    "     \n",
    "res=cal_and_reg(tot_time_list,sov_rate=sov_rate)\n",
    "res"
   ]
  },
  {
   "cell_type": "code",
   "execution_count": 143,
   "metadata": {},
   "outputs": [
    {
     "data": {
      "text/html": [
       "<div>\n",
       "<style scoped>\n",
       "    .dataframe tbody tr th:only-of-type {\n",
       "        vertical-align: middle;\n",
       "    }\n",
       "\n",
       "    .dataframe tbody tr th {\n",
       "        vertical-align: top;\n",
       "    }\n",
       "\n",
       "    .dataframe thead th {\n",
       "        text-align: right;\n",
       "    }\n",
       "</style>\n",
       "<table border=\"1\" class=\"dataframe\">\n",
       "  <thead>\n",
       "    <tr style=\"text-align: right;\">\n",
       "      <th></th>\n",
       "      <th>RRR</th>\n",
       "      <th>P_value</th>\n",
       "    </tr>\n",
       "  </thead>\n",
       "  <tbody>\n",
       "    <tr>\n",
       "      <th>3m</th>\n",
       "      <td>0.710654</td>\n",
       "      <td>5.0232e-07</td>\n",
       "    </tr>\n",
       "    <tr>\n",
       "      <th>6m</th>\n",
       "      <td>0.551643</td>\n",
       "      <td>3.66139e-13</td>\n",
       "    </tr>\n",
       "    <tr>\n",
       "      <th>1y</th>\n",
       "      <td>0.521376</td>\n",
       "      <td>6.45293e-14</td>\n",
       "    </tr>\n",
       "    <tr>\n",
       "      <th>3y</th>\n",
       "      <td>0.456676</td>\n",
       "      <td>1.60475e-14</td>\n",
       "    </tr>\n",
       "    <tr>\n",
       "      <th>5y</th>\n",
       "      <td>0.438786</td>\n",
       "      <td>5.0533e-12</td>\n",
       "    </tr>\n",
       "    <tr>\n",
       "      <th>10y</th>\n",
       "      <td>0.358596</td>\n",
       "      <td>4.97254e-14</td>\n",
       "    </tr>\n",
       "  </tbody>\n",
       "</table>\n",
       "</div>"
      ],
      "text/plain": [
       "          RRR      P_value\n",
       "3m   0.710654   5.0232e-07\n",
       "6m   0.551643  3.66139e-13\n",
       "1y   0.521376  6.45293e-14\n",
       "3y   0.456676  1.60475e-14\n",
       "5y   0.438786   5.0533e-12\n",
       "10y  0.358596  4.97254e-14"
      ]
     },
     "execution_count": 143,
     "metadata": {},
     "output_type": "execute_result"
    }
   ],
   "source": [
    "res2=cal_and_reg(tot_time_list,sov_rate=credit_cor)\n",
    "res2"
   ]
  },
  {
   "cell_type": "code",
   "execution_count": 144,
   "metadata": {},
   "outputs": [
    {
     "data": {
      "text/html": [
       "<div>\n",
       "<style scoped>\n",
       "    .dataframe tbody tr th:only-of-type {\n",
       "        vertical-align: middle;\n",
       "    }\n",
       "\n",
       "    .dataframe tbody tr th {\n",
       "        vertical-align: top;\n",
       "    }\n",
       "\n",
       "    .dataframe thead th {\n",
       "        text-align: right;\n",
       "    }\n",
       "</style>\n",
       "<table border=\"1\" class=\"dataframe\">\n",
       "  <thead>\n",
       "    <tr style=\"text-align: right;\">\n",
       "      <th></th>\n",
       "      <th>RRR</th>\n",
       "      <th>P_value</th>\n",
       "    </tr>\n",
       "  </thead>\n",
       "  <tbody>\n",
       "    <tr>\n",
       "      <th>3m</th>\n",
       "      <td>0.520569</td>\n",
       "      <td>3.84288e-09</td>\n",
       "    </tr>\n",
       "    <tr>\n",
       "      <th>6m</th>\n",
       "      <td>0.597697</td>\n",
       "      <td>1.86009e-14</td>\n",
       "    </tr>\n",
       "    <tr>\n",
       "      <th>1y</th>\n",
       "      <td>0.483585</td>\n",
       "      <td>4.05472e-12</td>\n",
       "    </tr>\n",
       "    <tr>\n",
       "      <th>3y</th>\n",
       "      <td>0.471895</td>\n",
       "      <td>1.00956e-14</td>\n",
       "    </tr>\n",
       "    <tr>\n",
       "      <th>5y</th>\n",
       "      <td>0.494706</td>\n",
       "      <td>1.90882e-15</td>\n",
       "    </tr>\n",
       "    <tr>\n",
       "      <th>10y</th>\n",
       "      <td>NaN</td>\n",
       "      <td>NaN</td>\n",
       "    </tr>\n",
       "  </tbody>\n",
       "</table>\n",
       "</div>"
      ],
      "text/plain": [
       "          RRR      P_value\n",
       "3m   0.520569  3.84288e-09\n",
       "6m   0.597697  1.86009e-14\n",
       "1y   0.483585  4.05472e-12\n",
       "3y   0.471895  1.00956e-14\n",
       "5y   0.494706  1.90882e-15\n",
       "10y       NaN          NaN"
      ]
     },
     "execution_count": 144,
     "metadata": {},
     "output_type": "execute_result"
    }
   ],
   "source": [
    "res2=cal_and_reg(tot_time_list,sov_rate=credit_note)\n",
    "res2"
   ]
  },
  {
   "cell_type": "markdown",
   "metadata": {},
   "source": [
    "# 以下部分运行较慢，有数据输出最好可以用现有的数据"
   ]
  },
  {
   "cell_type": "code",
   "execution_count": 157,
   "metadata": {},
   "outputs": [
    {
     "ename": "SyntaxError",
     "evalue": "invalid syntax (<ipython-input-157-2ddeec649fa6>, line 1)",
     "output_type": "error",
     "traceback": [
      "\u001b[1;36m  File \u001b[1;32m\"<ipython-input-157-2ddeec649fa6>\"\u001b[1;36m, line \u001b[1;32m1\u001b[0m\n\u001b[1;33m    import matplotlib.pyplot.xlabel as plt.xlabel\u001b[0m\n\u001b[1;37m                                          ^\u001b[0m\n\u001b[1;31mSyntaxError\u001b[0m\u001b[1;31m:\u001b[0m invalid syntax\n"
     ]
    }
   ],
   "source": [
    "import matplotlib.pyplot.xlabel as plt.xlabel\n",
    "plt.xlabel"
   ]
  },
  {
   "cell_type": "code",
   "execution_count": 162,
   "metadata": {},
   "outputs": [
    {
     "name": "stdout",
     "output_type": "stream",
     "text": [
      ".......3m\n",
      ".......6m\n",
      ".......1y\n",
      ".......3y\n",
      ".......5y\n",
      ".......10y\n",
      "            1         2         3         4         5         6         7\n",
      "3m   0.540045  0.796259   0.94039   1.01073   1.04339    1.1056   1.13617\n",
      "6m   0.549835  0.791581  0.896287  0.946149    1.0203   1.07969   1.11854\n",
      "1y   0.599402  0.907224    0.9963   1.02712   1.12895   1.16395   1.12866\n",
      "3y   0.473746  0.676557  0.731816   0.72865  0.748872  0.817874  0.796938\n",
      "5y   0.482935  0.696847   0.73521  0.706758  0.723541  0.776472  0.732716\n",
      "10y  0.412148  0.498783  0.500764  0.461439  0.474173  0.520279  0.497128\n"
     ]
    },
    {
     "ename": "TypeError",
     "evalue": "'list' object is not callable",
     "output_type": "error",
     "traceback": [
      "\u001b[1;31m---------------------------------------------------------------------------\u001b[0m",
      "\u001b[1;31mTypeError\u001b[0m                                 Traceback (most recent call last)",
      "\u001b[1;32m<ipython-input-162-c3b3f2df3df5>\u001b[0m in \u001b[0;36m<module>\u001b[1;34m\u001b[0m\n\u001b[0;32m      3\u001b[0m \u001b[0mrrr_res\u001b[0m\u001b[1;33m=\u001b[0m\u001b[0mget_one_policy\u001b[0m\u001b[1;33m(\u001b[0m\u001b[0mirs_change_df\u001b[0m\u001b[1;33m,\u001b[0m\u001b[0msov_rate\u001b[0m\u001b[1;33m=\u001b[0m\u001b[0msov_rate\u001b[0m\u001b[1;33m)\u001b[0m\u001b[1;33m\u001b[0m\u001b[1;33m\u001b[0m\u001b[0m\n\u001b[0;32m      4\u001b[0m \u001b[0mprint\u001b[0m\u001b[1;33m(\u001b[0m\u001b[0mrrr_res\u001b[0m\u001b[1;33m)\u001b[0m\u001b[1;33m\u001b[0m\u001b[1;33m\u001b[0m\u001b[0m\n\u001b[1;32m----> 5\u001b[1;33m \u001b[0mdraw_nday\u001b[0m\u001b[1;33m(\u001b[0m\u001b[0mrrr_res\u001b[0m\u001b[1;33m)\u001b[0m\u001b[1;33m\u001b[0m\u001b[1;33m\u001b[0m\u001b[0m\n\u001b[0m",
      "\u001b[1;32m<ipython-input-72-761cba18746c>\u001b[0m in \u001b[0;36mdraw_nday\u001b[1;34m(est_result_nday, xlabel)\u001b[0m\n\u001b[0;32m      9\u001b[0m     \u001b[0mplt\u001b[0m\u001b[1;33m.\u001b[0m\u001b[0mlegend\u001b[0m\u001b[1;33m(\u001b[0m\u001b[0mest_result_nday\u001b[0m\u001b[1;33m.\u001b[0m\u001b[0mindex\u001b[0m\u001b[1;33m)\u001b[0m\u001b[1;33m\u001b[0m\u001b[1;33m\u001b[0m\u001b[0m\n\u001b[0;32m     10\u001b[0m     \u001b[1;31m# plt.grid()\u001b[0m\u001b[1;33m\u001b[0m\u001b[1;33m\u001b[0m\u001b[1;33m\u001b[0m\u001b[0m\n\u001b[1;32m---> 11\u001b[1;33m     \u001b[0mplt\u001b[0m\u001b[1;33m.\u001b[0m\u001b[0mxlabel\u001b[0m\u001b[1;33m(\u001b[0m\u001b[0mxlabel\u001b[0m\u001b[1;33m)\u001b[0m\u001b[1;33m\u001b[0m\u001b[1;33m\u001b[0m\u001b[0m\n\u001b[0m\u001b[0;32m     12\u001b[0m \u001b[1;31m#     plt.ylabel('债券响应系数')\u001b[0m\u001b[1;33m\u001b[0m\u001b[1;33m\u001b[0m\u001b[1;33m\u001b[0m\u001b[0m\n\u001b[0;32m     13\u001b[0m \u001b[1;33m\u001b[0m\u001b[0m\n",
      "\u001b[1;31mTypeError\u001b[0m: 'list' object is not callable"
     ]
    },
    {
     "data": {
      "image/png": "[encoded data removed]",
      "text/plain": [
       "<Figure size 432x288 with 1 Axes>"
      ]
     },
     "metadata": {},
     "output_type": "display_data"
    }
   ],
   "source": [
    "# RRR\n",
    "irs_change_df=irs_change(tot_time_list,output=False)\n",
    "rrr_res=get_one_policy(irs_change_df,sov_rate=sov_rate)\n",
    "print(rrr_res)\n",
    "draw_nday(rrr_res)"
   ]
  },
  {
   "cell_type": "code",
   "execution_count": 163,
   "metadata": {},
   "outputs": [
    {
     "data": {
      "text/plain": [
       "{1: {'3m': 0.5400448561014054,\n",
       "  '6m': 0.5498354756019096,\n",
       "  '1y': 0.5994017480763054,\n",
       "  '3y': 0.4737457545912722,\n",
       "  '5y': 0.482934910987283,\n",
       "  '10y': 0.41214778680400016},\n",
       " 2: {'3m': 0.79625900556535,\n",
       "  '6m': 0.7915805195541309,\n",
       "  '1y': 0.9072244131011085,\n",
       "  '3y': 0.6765567593465305,\n",
       "  '5y': 0.6968467859240806,\n",
       "  '10y': 0.49878257678525706},\n",
       " 3: {'3m': 0.9403903987924712,\n",
       "  '6m': 0.8962871197078034,\n",
       "  '1y': 0.9963004939342182,\n",
       "  '3y': 0.7318160122104918,\n",
       "  '5y': 0.735209594539104,\n",
       "  '10y': 0.5007640203323449},\n",
       " 4: {'3m': 1.0107268322780336,\n",
       "  '6m': 0.9461488773156831,\n",
       "  '1y': 1.0271231973856016,\n",
       "  '3y': 0.7286495829731918,\n",
       "  '5y': 0.7067579406960175,\n",
       "  '10y': 0.46143850335728426},\n",
       " 5: {'3m': 1.0433908508992047,\n",
       "  '6m': 1.0202976485594677,\n",
       "  '1y': 1.128948600238957,\n",
       "  '3y': 0.7488724802369217,\n",
       "  '5y': 0.7235414606832767,\n",
       "  '10y': 0.4741729284027955},\n",
       " 6: {'3m': 1.105599138298124,\n",
       "  '6m': 1.0796921062246012,\n",
       "  '1y': 1.163948810797926,\n",
       "  '3y': 0.8178736937541805,\n",
       "  '5y': 0.7764724652773032,\n",
       "  '10y': 0.5202791168425615},\n",
       " 7: {'3m': 1.1361684440471533,\n",
       "  '6m': 1.1185393879357362,\n",
       "  '1y': 1.1286566979425898,\n",
       "  '3y': 0.7969384745782371,\n",
       "  '5y': 0.7327161794127875,\n",
       "  '10y': 0.4971278908314649}}"
      ]
     },
     "execution_count": 163,
     "metadata": {},
     "output_type": "execute_result"
    }
   ],
   "source": [
    "rrr_res.to_dict()"
   ]
  },
  {
   "cell_type": "code",
   "execution_count": 161,
   "metadata": {},
   "outputs": [
    {
     "name": "stdout",
     "output_type": "stream",
     "text": [
      ".......3m\n",
      ".......6m\n",
      ".......1y\n",
      ".......3y\n",
      ".......5y\n",
      ".......10y\n",
      "            1         2         3         4         5         6         7\n",
      "3m   0.710654    0.9272   1.15062   1.55426   1.59616   1.68574    1.8017\n",
      "6m   0.551643  0.792756   0.94137   1.07244   1.06283   1.15743   1.25567\n",
      "1y   0.521376  0.775459  0.927128   1.03961   1.09326   1.15635   1.20396\n",
      "3y   0.456676  0.655596  0.793997  0.872801   0.93981    1.0161    1.0896\n",
      "5y   0.438786  0.654617  0.774381  0.842372  0.905786   0.98862   1.02676\n",
      "10y  0.358596  0.459569  0.519142  0.569023  0.600884  0.608607  0.637113\n"
     ]
    }
   ],
   "source": [
    "# RRR\n",
    "irs_change_df=irs_change(tot_time_list,output=False)\n",
    "rrr_res=get_one_policy(irs_change_df,sov_rate=credit_cor)\n",
    "print(rrr_res)"
   ]
  },
  {
   "cell_type": "code",
   "execution_count": 158,
   "metadata": {},
   "outputs": [
    {
     "data": {
      "text/plain": [
       "{1: {'3m': 0.7106543853786486,\n",
       "  '6m': 0.5516430508736476,\n",
       "  '1y': 0.5213761676217474,\n",
       "  '3y': 0.45667633529073254,\n",
       "  '5y': 0.43878634404788597,\n",
       "  '10y': 0.3585964126779653},\n",
       " 2: {'3m': 0.9272004940801618,\n",
       "  '6m': 0.7927564805271915,\n",
       "  '1y': 0.7754591133027965,\n",
       "  '3y': 0.6555961720339479,\n",
       "  '5y': 0.6546168184079403,\n",
       "  '10y': 0.45956905694638067},\n",
       " 3: {'3m': 1.1506247500589104,\n",
       "  '6m': 0.9413703779214153,\n",
       "  '1y': 0.9271284650455801,\n",
       "  '3y': 0.7939972112165375,\n",
       "  '5y': 0.7743805623540632,\n",
       "  '10y': 0.5191421626303674},\n",
       " 4: {'3m': 1.554264367042079,\n",
       "  '6m': 1.0724355131447683,\n",
       "  '1y': 1.0396146262062242,\n",
       "  '3y': 0.8728013527635003,\n",
       "  '5y': 0.8423716806143356,\n",
       "  '10y': 0.5690226231657018},\n",
       " 5: {'3m': 1.596157392825881,\n",
       "  '6m': 1.062830535455036,\n",
       "  '1y': 1.0932607564811267,\n",
       "  '3y': 0.9398099187655395,\n",
       "  '5y': 0.905785738879011,\n",
       "  '10y': 0.600884053356314},\n",
       " 6: {'3m': 1.6857395437364566,\n",
       "  '6m': 1.1574306794459825,\n",
       "  '1y': 1.1563450452262112,\n",
       "  '3y': 1.01609864675797,\n",
       "  '5y': 0.9886203945671743,\n",
       "  '10y': 0.6086067836572914},\n",
       " 7: {'3m': 1.8017040092183068,\n",
       "  '6m': 1.25567249096983,\n",
       "  '1y': 1.2039590470784853,\n",
       "  '3y': 1.0895965805606778,\n",
       "  '5y': 1.026763056332852,\n",
       "  '10y': 0.6371129629770304}}"
      ]
     },
     "execution_count": 158,
     "metadata": {},
     "output_type": "execute_result"
    }
   ],
   "source": [
    "rrr_res.to_dict()"
   ]
  },
  {
   "cell_type": "code",
   "execution_count": null,
   "metadata": {},
   "outputs": [],
   "source": [
    "# RRR\n",
    "irs_change_df=irs_change(tot_time_list,output=False)\n",
    "rrr_res=get_one_policy(irs_change_df)\n",
    "print(rrr_res)"
   ]
  },
  {
   "cell_type": "code",
   "execution_count": null,
   "metadata": {},
   "outputs": [],
   "source": [
    "# RRR\n",
    "time_list=rrr_time\n",
    "irs_change_df=irs_change(time_list,output=False)\n",
    "rrr_res=get_one_policy(irs_change_df)\n",
    "print(rrr_res)"
   ]
  },
  {
   "cell_type": "code",
   "execution_count": 167,
   "metadata": {},
   "outputs": [],
   "source": [
    "tot_time_list\n",
    "tot_irs_chg=irs_change(tot_time_list,output=False)"
   ]
  },
  {
   "cell_type": "code",
   "execution_count": 171,
   "metadata": {},
   "outputs": [
    {
     "data": {
      "text/html": [
       "<div>\n",
       "<style scoped>\n",
       "    .dataframe tbody tr th:only-of-type {\n",
       "        vertical-align: middle;\n",
       "    }\n",
       "\n",
       "    .dataframe tbody tr th {\n",
       "        vertical-align: top;\n",
       "    }\n",
       "\n",
       "    .dataframe thead th {\n",
       "        text-align: right;\n",
       "    }\n",
       "</style>\n",
       "<table border=\"1\" class=\"dataframe\">\n",
       "  <thead>\n",
       "    <tr style=\"text-align: right;\">\n",
       "      <th></th>\n",
       "      <th>t1</th>\n",
       "      <th>t0</th>\n",
       "      <th>irs1</th>\n",
       "      <th>irs0</th>\n",
       "      <th>irs_change</th>\n",
       "    </tr>\n",
       "  </thead>\n",
       "  <tbody>\n",
       "    <tr>\n",
       "      <th>2010-05-02</th>\n",
       "      <td>2010-05-04</td>\n",
       "      <td>2010-04-29</td>\n",
       "      <td>2.15</td>\n",
       "      <td>2.135</td>\n",
       "      <td>0.015</td>\n",
       "    </tr>\n",
       "    <tr>\n",
       "      <th>2010-05-10</th>\n",
       "      <td>2010-05-12</td>\n",
       "      <td>2010-05-07</td>\n",
       "      <td>2.12</td>\n",
       "      <td>2.1</td>\n",
       "      <td>0.02</td>\n",
       "    </tr>\n",
       "    <tr>\n",
       "      <th>2010-06-01</th>\n",
       "      <td>2010-06-02</td>\n",
       "      <td>2010-06-01</td>\n",
       "      <td>2.28</td>\n",
       "      <td>2.23</td>\n",
       "      <td>0.05</td>\n",
       "    </tr>\n",
       "    <tr>\n",
       "      <th>2010-06-08</th>\n",
       "      <td>2010-06-09</td>\n",
       "      <td>2010-06-08</td>\n",
       "      <td>2.28</td>\n",
       "      <td>2.23</td>\n",
       "      <td>0.05</td>\n",
       "    </tr>\n",
       "    <tr>\n",
       "      <th>2010-08-05</th>\n",
       "      <td>2010-08-06</td>\n",
       "      <td>2010-08-04</td>\n",
       "      <td>2.075</td>\n",
       "      <td>2.09</td>\n",
       "      <td>-0.015</td>\n",
       "    </tr>\n",
       "    <tr>\n",
       "      <th>...</th>\n",
       "      <td>...</td>\n",
       "      <td>...</td>\n",
       "      <td>...</td>\n",
       "      <td>...</td>\n",
       "      <td>...</td>\n",
       "    </tr>\n",
       "    <tr>\n",
       "      <th>2020-04-20</th>\n",
       "      <td>2020-04-21</td>\n",
       "      <td>2020-04-20</td>\n",
       "      <td>1.42</td>\n",
       "      <td>1.45</td>\n",
       "      <td>-0.03</td>\n",
       "    </tr>\n",
       "    <tr>\n",
       "      <th>2020-04-24</th>\n",
       "      <td>2020-04-26</td>\n",
       "      <td>2020-04-24</td>\n",
       "      <td>1.4525</td>\n",
       "      <td>1.44</td>\n",
       "      <td>0.0125</td>\n",
       "    </tr>\n",
       "    <tr>\n",
       "      <th>2020-05-09</th>\n",
       "      <td>2020-05-11</td>\n",
       "      <td>2020-05-08</td>\n",
       "      <td>1.525</td>\n",
       "      <td>1.475</td>\n",
       "      <td>0.05</td>\n",
       "    </tr>\n",
       "    <tr>\n",
       "      <th>2020-06-18</th>\n",
       "      <td>2020-06-19</td>\n",
       "      <td>2020-06-18</td>\n",
       "      <td>2.08</td>\n",
       "      <td>2.04</td>\n",
       "      <td>0.04</td>\n",
       "    </tr>\n",
       "    <tr>\n",
       "      <th>2020-08-06</th>\n",
       "      <td>2020-08-07</td>\n",
       "      <td>2020-08-06</td>\n",
       "      <td>2.415</td>\n",
       "      <td>2.415</td>\n",
       "      <td>0</td>\n",
       "    </tr>\n",
       "  </tbody>\n",
       "</table>\n",
       "<p>211 rows × 5 columns</p>\n",
       "</div>"
      ],
      "text/plain": [
       "                    t1          t0    irs1   irs0 irs_change\n",
       "2010-05-02  2010-05-04  2010-04-29    2.15  2.135      0.015\n",
       "2010-05-10  2010-05-12  2010-05-07    2.12    2.1       0.02\n",
       "2010-06-01  2010-06-02  2010-06-01    2.28   2.23       0.05\n",
       "2010-06-08  2010-06-09  2010-06-08    2.28   2.23       0.05\n",
       "2010-08-05  2010-08-06  2010-08-04   2.075   2.09     -0.015\n",
       "...                ...         ...     ...    ...        ...\n",
       "2020-04-20  2020-04-21  2020-04-20    1.42   1.45      -0.03\n",
       "2020-04-24  2020-04-26  2020-04-24  1.4525   1.44     0.0125\n",
       "2020-05-09  2020-05-11  2020-05-08   1.525  1.475       0.05\n",
       "2020-06-18  2020-06-19  2020-06-18    2.08   2.04       0.04\n",
       "2020-08-06  2020-08-07  2020-08-06   2.415  2.415          0\n",
       "\n",
       "[211 rows x 5 columns]"
      ]
     },
     "execution_count": 171,
     "metadata": {},
     "output_type": "execute_result"
    }
   ],
   "source": [
    "tot_irs_chg\n"
   ]
  },
  {
   "cell_type": "code",
   "execution_count": 190,
   "metadata": {},
   "outputs": [],
   "source": [
    "year_index=[]\n",
    "for year in range(2010,2021):\n",
    "    for month in range(1,13):\n",
    "        year_index.append('{}-{}'.format(year,str(month).zfill(2)))\n",
    "\n",
    "\n",
    "def get_month_line(irs_one):\n",
    "    # 新建一个df\n",
    "    month_df=pd.DataFrame(index=year_index)\n",
    "    # 计算月度累计\n",
    "#     irs_one=irs_change(v,output=False)\n",
    "    irs_one.index=pd.DatetimeIndex(irs_one.index)\n",
    "    for month in month_df.index:\n",
    "        try:\n",
    "            one_month_change=irs_one[month]['irs_change'].sum()\n",
    "        except:\n",
    "            one_month_change=0\n",
    "        month_df.loc[month,'this']=one_month_change\n",
    "    return month_df\n"
   ]
  },
  {
   "cell_type": "code",
   "execution_count": 191,
   "metadata": {},
   "outputs": [
    {
     "data": {
      "text/plain": [
       "array([ 0.    ,  0.    ,  0.    ,  0.    ,  0.035 ,  0.1   ,  0.    ,\n",
       "       -0.015 ,  0.    ,  0.0857,  0.381 , -0.0825,  0.11  ,  0.2   ,\n",
       "        0.22  , -0.03  ,  0.13  ,  0.38  , -0.02  ,  0.12  ,  0.    ,\n",
       "        0.    , -0.35  ,  0.    ,  0.0325, -0.02  ,  0.    ,  0.    ,\n",
       "       -0.235 ,  0.085 , -0.125 ,  0.06  ,  0.225 ,  0.    , -0.005 ,\n",
       "        0.    ,  0.    ,  0.005 ,  0.    ,  0.    ,  0.005 ,  0.    ,\n",
       "       -0.01  ,  0.045 ,  0.    ,  0.105 ,  0.14  ,  0.3   , -0.2   ,\n",
       "        0.045 ,  0.    , -0.02  ,  0.005 ,  0.0625,  0.    ,  0.    ,\n",
       "        0.    ,  0.    , -0.5125,  0.    ,  0.09  , -0.14  ,  0.1375,\n",
       "       -0.3925, -0.17  , -0.21  ,  0.    , -0.145 , -0.0075, -0.1975,\n",
       "        0.03  ,  0.    ,  0.025 ,  0.03  ,  0.    ,  0.    , -0.01  ,\n",
       "        0.    ,  0.    ,  0.0075,  0.005 ,  0.    , -0.005 ,  0.    ,\n",
       "        0.13  ,  0.    ,  0.0275,  0.    , -0.065 ,  0.    ,  0.    ,\n",
       "       -0.005 ,  0.02  ,  0.0325, -0.005 , -0.0175,  0.0075,  0.0125,\n",
       "        0.    , -0.11  ,  0.0225, -0.0125,  0.    ,  0.09  ,  0.    ,\n",
       "       -0.025 ,  0.    , -0.025 , -0.04  ,  0.0375,  0.    ,  0.    ,\n",
       "       -0.015 ,  0.    ,  0.    ,  0.03  ,  0.015 ,  0.    , -0.11  ,\n",
       "        0.    ,  0.01  , -0.0175, -0.0625, -0.245 ,  0.05  ,  0.04  ,\n",
       "        0.    ,  0.    ,  0.    ,  0.    ,  0.    ,  0.    ])"
      ]
     },
     "execution_count": 191,
     "metadata": {},
     "output_type": "execute_result"
    }
   ],
   "source": [
    "np.array(get_month_line(tot_irs_chg).iloc[:,0].to_list())"
   ]
  },
  {
   "cell_type": "code",
   "execution_count": 195,
   "metadata": {},
   "outputs": [
    {
     "ename": "KeyError",
     "evalue": "-1",
     "output_type": "error",
     "traceback": [
      "\u001b[1;31m---------------------------------------------------------------------------\u001b[0m",
      "\u001b[1;31mKeyError\u001b[0m                                  Traceback (most recent call last)",
      "\u001b[1;32m~\\anaconda3\\lib\\site-packages\\pandas\\core\\indexes\\base.py\u001b[0m in \u001b[0;36mget_loc\u001b[1;34m(self, key, method, tolerance)\u001b[0m\n\u001b[0;32m   2645\u001b[0m             \u001b[1;32mtry\u001b[0m\u001b[1;33m:\u001b[0m\u001b[1;33m\u001b[0m\u001b[1;33m\u001b[0m\u001b[0m\n\u001b[1;32m-> 2646\u001b[1;33m                 \u001b[1;32mreturn\u001b[0m \u001b[0mself\u001b[0m\u001b[1;33m.\u001b[0m\u001b[0m_engine\u001b[0m\u001b[1;33m.\u001b[0m\u001b[0mget_loc\u001b[0m\u001b[1;33m(\u001b[0m\u001b[0mkey\u001b[0m\u001b[1;33m)\u001b[0m\u001b[1;33m\u001b[0m\u001b[1;33m\u001b[0m\u001b[0m\n\u001b[0m\u001b[0;32m   2647\u001b[0m             \u001b[1;32mexcept\u001b[0m \u001b[0mKeyError\u001b[0m\u001b[1;33m:\u001b[0m\u001b[1;33m\u001b[0m\u001b[1;33m\u001b[0m\u001b[0m\n",
      "\u001b[1;32mpandas\\_libs\\index.pyx\u001b[0m in \u001b[0;36mpandas._libs.index.IndexEngine.get_loc\u001b[1;34m()\u001b[0m\n",
      "\u001b[1;32mpandas\\_libs\\index.pyx\u001b[0m in \u001b[0;36mpandas._libs.index.IndexEngine.get_loc\u001b[1;34m()\u001b[0m\n",
      "\u001b[1;32mpandas\\_libs\\hashtable_class_helper.pxi\u001b[0m in \u001b[0;36mpandas._libs.hashtable.PyObjectHashTable.get_item\u001b[1;34m()\u001b[0m\n",
      "\u001b[1;32mpandas\\_libs\\hashtable_class_helper.pxi\u001b[0m in \u001b[0;36mpandas._libs.hashtable.PyObjectHashTable.get_item\u001b[1;34m()\u001b[0m\n",
      "\u001b[1;31mKeyError\u001b[0m: -1",
      "\nDuring handling of the above exception, another exception occurred:\n",
      "\u001b[1;31mKeyError\u001b[0m                                  Traceback (most recent call last)",
      "\u001b[1;32m<ipython-input-195-ac6bd2a748e7>\u001b[0m in \u001b[0;36m<module>\u001b[1;34m\u001b[0m\n\u001b[0;32m     14\u001b[0m         \u001b[0mmonth_df\u001b[0m\u001b[1;33m.\u001b[0m\u001b[0mloc\u001b[0m\u001b[1;33m[\u001b[0m\u001b[0mmonth\u001b[0m\u001b[1;33m,\u001b[0m\u001b[1;34m'this'\u001b[0m\u001b[1;33m]\u001b[0m\u001b[1;33m=\u001b[0m\u001b[0mone_month_change\u001b[0m\u001b[1;33m\u001b[0m\u001b[1;33m\u001b[0m\u001b[0m\n\u001b[0;32m     15\u001b[0m     \u001b[1;32mreturn\u001b[0m \u001b[0mmonth_df\u001b[0m\u001b[1;33m\u001b[0m\u001b[1;33m\u001b[0m\u001b[0m\n\u001b[1;32m---> 16\u001b[1;33m \u001b[0mnp\u001b[0m\u001b[1;33m.\u001b[0m\u001b[0marray\u001b[0m\u001b[1;33m(\u001b[0m\u001b[0mget_half_month_line\u001b[0m\u001b[1;33m(\u001b[0m\u001b[0mtot_irs_chg\u001b[0m\u001b[1;33m)\u001b[0m\u001b[1;33m.\u001b[0m\u001b[0miloc\u001b[0m\u001b[1;33m[\u001b[0m\u001b[1;33m:\u001b[0m\u001b[1;33m,\u001b[0m\u001b[1;36m0\u001b[0m\u001b[1;33m]\u001b[0m\u001b[1;33m.\u001b[0m\u001b[0mto_list\u001b[0m\u001b[1;33m(\u001b[0m\u001b[1;33m)\u001b[0m\u001b[1;33m)\u001b[0m\u001b[1;33m\u001b[0m\u001b[1;33m\u001b[0m\u001b[0m\n\u001b[0m",
      "\u001b[1;32m<ipython-input-195-ac6bd2a748e7>\u001b[0m in \u001b[0;36mget_half_month_line\u001b[1;34m(irs_one)\u001b[0m\n\u001b[0;32m      6\u001b[0m     \u001b[0mirs_one\u001b[0m\u001b[1;33m.\u001b[0m\u001b[0mindex\u001b[0m\u001b[1;33m=\u001b[0m\u001b[0mpd\u001b[0m\u001b[1;33m.\u001b[0m\u001b[0mDatetimeIndex\u001b[0m\u001b[1;33m(\u001b[0m\u001b[0mirs_one\u001b[0m\u001b[1;33m.\u001b[0m\u001b[0mindex\u001b[0m\u001b[1;33m)\u001b[0m\u001b[1;33m\u001b[0m\u001b[1;33m\u001b[0m\u001b[0m\n\u001b[0;32m      7\u001b[0m     \u001b[1;32mfor\u001b[0m \u001b[0mi\u001b[0m\u001b[1;33m,\u001b[0m\u001b[0mmonth\u001b[0m \u001b[1;32min\u001b[0m \u001b[0menumerate\u001b[0m\u001b[1;33m(\u001b[0m\u001b[0mmonth_df\u001b[0m\u001b[1;33m.\u001b[0m\u001b[0mindex\u001b[0m\u001b[1;33m)\u001b[0m\u001b[1;33m:\u001b[0m\u001b[1;33m\u001b[0m\u001b[1;33m\u001b[0m\u001b[0m\n\u001b[1;32m----> 8\u001b[1;33m         \u001b[0mprint\u001b[0m\u001b[1;33m(\u001b[0m\u001b[0mmonth_df\u001b[0m\u001b[1;33m[\u001b[0m\u001b[0mi\u001b[0m\u001b[1;33m-\u001b[0m\u001b[1;36m1\u001b[0m\u001b[1;33m]\u001b[0m\u001b[1;33m+\u001b[0m\u001b[1;34m'-15'\u001b[0m\u001b[1;33m+\u001b[0m\u001b[0mmonth\u001b[0m\u001b[1;33m+\u001b[0m\u001b[1;34m'-15'\u001b[0m\u001b[1;33m)\u001b[0m\u001b[1;33m\u001b[0m\u001b[1;33m\u001b[0m\u001b[0m\n\u001b[0m\u001b[0;32m      9\u001b[0m \u001b[1;33m\u001b[0m\u001b[0m\n\u001b[0;32m     10\u001b[0m         \u001b[1;32mtry\u001b[0m\u001b[1;33m:\u001b[0m\u001b[1;33m\u001b[0m\u001b[1;33m\u001b[0m\u001b[0m\n",
      "\u001b[1;32m~\\anaconda3\\lib\\site-packages\\pandas\\core\\frame.py\u001b[0m in \u001b[0;36m__getitem__\u001b[1;34m(self, key)\u001b[0m\n\u001b[0;32m   2798\u001b[0m             \u001b[1;32mif\u001b[0m \u001b[0mself\u001b[0m\u001b[1;33m.\u001b[0m\u001b[0mcolumns\u001b[0m\u001b[1;33m.\u001b[0m\u001b[0mnlevels\u001b[0m \u001b[1;33m>\u001b[0m \u001b[1;36m1\u001b[0m\u001b[1;33m:\u001b[0m\u001b[1;33m\u001b[0m\u001b[1;33m\u001b[0m\u001b[0m\n\u001b[0;32m   2799\u001b[0m                 \u001b[1;32mreturn\u001b[0m \u001b[0mself\u001b[0m\u001b[1;33m.\u001b[0m\u001b[0m_getitem_multilevel\u001b[0m\u001b[1;33m(\u001b[0m\u001b[0mkey\u001b[0m\u001b[1;33m)\u001b[0m\u001b[1;33m\u001b[0m\u001b[1;33m\u001b[0m\u001b[0m\n\u001b[1;32m-> 2800\u001b[1;33m             \u001b[0mindexer\u001b[0m \u001b[1;33m=\u001b[0m \u001b[0mself\u001b[0m\u001b[1;33m.\u001b[0m\u001b[0mcolumns\u001b[0m\u001b[1;33m.\u001b[0m\u001b[0mget_loc\u001b[0m\u001b[1;33m(\u001b[0m\u001b[0mkey\u001b[0m\u001b[1;33m)\u001b[0m\u001b[1;33m\u001b[0m\u001b[1;33m\u001b[0m\u001b[0m\n\u001b[0m\u001b[0;32m   2801\u001b[0m             \u001b[1;32mif\u001b[0m \u001b[0mis_integer\u001b[0m\u001b[1;33m(\u001b[0m\u001b[0mindexer\u001b[0m\u001b[1;33m)\u001b[0m\u001b[1;33m:\u001b[0m\u001b[1;33m\u001b[0m\u001b[1;33m\u001b[0m\u001b[0m\n\u001b[0;32m   2802\u001b[0m                 \u001b[0mindexer\u001b[0m \u001b[1;33m=\u001b[0m \u001b[1;33m[\u001b[0m\u001b[0mindexer\u001b[0m\u001b[1;33m]\u001b[0m\u001b[1;33m\u001b[0m\u001b[1;33m\u001b[0m\u001b[0m\n",
      "\u001b[1;32m~\\anaconda3\\lib\\site-packages\\pandas\\core\\indexes\\base.py\u001b[0m in \u001b[0;36mget_loc\u001b[1;34m(self, key, method, tolerance)\u001b[0m\n\u001b[0;32m   2646\u001b[0m                 \u001b[1;32mreturn\u001b[0m \u001b[0mself\u001b[0m\u001b[1;33m.\u001b[0m\u001b[0m_engine\u001b[0m\u001b[1;33m.\u001b[0m\u001b[0mget_loc\u001b[0m\u001b[1;33m(\u001b[0m\u001b[0mkey\u001b[0m\u001b[1;33m)\u001b[0m\u001b[1;33m\u001b[0m\u001b[1;33m\u001b[0m\u001b[0m\n\u001b[0;32m   2647\u001b[0m             \u001b[1;32mexcept\u001b[0m \u001b[0mKeyError\u001b[0m\u001b[1;33m:\u001b[0m\u001b[1;33m\u001b[0m\u001b[1;33m\u001b[0m\u001b[0m\n\u001b[1;32m-> 2648\u001b[1;33m                 \u001b[1;32mreturn\u001b[0m \u001b[0mself\u001b[0m\u001b[1;33m.\u001b[0m\u001b[0m_engine\u001b[0m\u001b[1;33m.\u001b[0m\u001b[0mget_loc\u001b[0m\u001b[1;33m(\u001b[0m\u001b[0mself\u001b[0m\u001b[1;33m.\u001b[0m\u001b[0m_maybe_cast_indexer\u001b[0m\u001b[1;33m(\u001b[0m\u001b[0mkey\u001b[0m\u001b[1;33m)\u001b[0m\u001b[1;33m)\u001b[0m\u001b[1;33m\u001b[0m\u001b[1;33m\u001b[0m\u001b[0m\n\u001b[0m\u001b[0;32m   2649\u001b[0m         \u001b[0mindexer\u001b[0m \u001b[1;33m=\u001b[0m \u001b[0mself\u001b[0m\u001b[1;33m.\u001b[0m\u001b[0mget_indexer\u001b[0m\u001b[1;33m(\u001b[0m\u001b[1;33m[\u001b[0m\u001b[0mkey\u001b[0m\u001b[1;33m]\u001b[0m\u001b[1;33m,\u001b[0m \u001b[0mmethod\u001b[0m\u001b[1;33m=\u001b[0m\u001b[0mmethod\u001b[0m\u001b[1;33m,\u001b[0m \u001b[0mtolerance\u001b[0m\u001b[1;33m=\u001b[0m\u001b[0mtolerance\u001b[0m\u001b[1;33m)\u001b[0m\u001b[1;33m\u001b[0m\u001b[1;33m\u001b[0m\u001b[0m\n\u001b[0;32m   2650\u001b[0m         \u001b[1;32mif\u001b[0m \u001b[0mindexer\u001b[0m\u001b[1;33m.\u001b[0m\u001b[0mndim\u001b[0m \u001b[1;33m>\u001b[0m \u001b[1;36m1\u001b[0m \u001b[1;32mor\u001b[0m \u001b[0mindexer\u001b[0m\u001b[1;33m.\u001b[0m\u001b[0msize\u001b[0m \u001b[1;33m>\u001b[0m \u001b[1;36m1\u001b[0m\u001b[1;33m:\u001b[0m\u001b[1;33m\u001b[0m\u001b[1;33m\u001b[0m\u001b[0m\n",
      "\u001b[1;32mpandas\\_libs\\index.pyx\u001b[0m in \u001b[0;36mpandas._libs.index.IndexEngine.get_loc\u001b[1;34m()\u001b[0m\n",
      "\u001b[1;32mpandas\\_libs\\index.pyx\u001b[0m in \u001b[0;36mpandas._libs.index.IndexEngine.get_loc\u001b[1;34m()\u001b[0m\n",
      "\u001b[1;32mpandas\\_libs\\hashtable_class_helper.pxi\u001b[0m in \u001b[0;36mpandas._libs.hashtable.PyObjectHashTable.get_item\u001b[1;34m()\u001b[0m\n",
      "\u001b[1;32mpandas\\_libs\\hashtable_class_helper.pxi\u001b[0m in \u001b[0;36mpandas._libs.hashtable.PyObjectHashTable.get_item\u001b[1;34m()\u001b[0m\n",
      "\u001b[1;31mKeyError\u001b[0m: -1"
     ]
    }
   ],
   "source": [
    "def get_half_month_line(irs_one):\n",
    "    # 新建一个df\n",
    "    month_df=pd.DataFrame(index=year_index)\n",
    "    # 计算月度累计\n",
    "#     irs_one=irs_change(v,output=False)\n",
    "    irs_one.index=pd.DatetimeIndex(irs_one.index)\n",
    "    for i,month in enumerate(month_df.index):\n",
    "        print(month_df[i-1]+'-15'+month+'-15')\n",
    "\n",
    "        try:\n",
    "            one_month_change=irs_one[month_df[i-1]+'-15':month+'-15']['irs_change'].sum()\n",
    "        except:\n",
    "            one_month_change=0\n",
    "        month_df.loc[month,'this']=one_month_change\n",
    "    return month_df\n",
    "np.array(get_half_month_line(tot_irs_chg).iloc[:,0].to_list())"
   ]
  },
  {
   "cell_type": "code",
   "execution_count": null,
   "metadata": {},
   "outputs": [],
   "source": []
  }
 ],
 "metadata": {
  "kernelspec": {
   "display_name": "Python 3",
   "language": "python",
   "name": "python3"
  },
  "language_info": {
   "codemirror_mode": {
    "name": "ipython",
    "version": 3
   },
   "file_extension": ".py",
   "mimetype": "text/x-python",
   "name": "python",
   "nbconvert_exporter": "python",
   "pygments_lexer": "ipython3",
   "version": "3.8.5"
  }
 },
 "nbformat": 4,
 "nbformat_minor": 4
}
