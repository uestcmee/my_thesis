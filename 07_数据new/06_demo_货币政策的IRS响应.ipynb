{
 "cells": [
  {
   "cell_type": "code",
   "execution_count": 3,
   "metadata": {},
   "outputs": [],
   "source": [
    "import pandas as pd\n",
    "import numpy as np\n",
    "import datetime\n",
    "import matplotlib.pyplot as plt\n",
    "import seaborn as sns\n",
    "sns.set_style('whitegrid')"
   ]
  },
  {
   "cell_type": "code",
   "execution_count": 4,
   "metadata": {},
   "outputs": [
    {
     "data": {
      "text/html": [
       "<div>\n",
       "<style scoped>\n",
       "    .dataframe tbody tr th:only-of-type {\n",
       "        vertical-align: middle;\n",
       "    }\n",
       "\n",
       "    .dataframe tbody tr th {\n",
       "        vertical-align: top;\n",
       "    }\n",
       "\n",
       "    .dataframe thead th {\n",
       "        text-align: right;\n",
       "    }\n",
       "</style>\n",
       "<table border=\"1\" class=\"dataframe\">\n",
       "  <thead>\n",
       "    <tr style=\"text-align: right;\">\n",
       "      <th></th>\n",
       "      <th>收盘价</th>\n",
       "    </tr>\n",
       "    <tr>\n",
       "      <th>日期</th>\n",
       "      <th></th>\n",
       "    </tr>\n",
       "  </thead>\n",
       "  <tbody>\n",
       "    <tr>\n",
       "      <th>2010-04-19</th>\n",
       "      <td>2.1900</td>\n",
       "    </tr>\n",
       "    <tr>\n",
       "      <th>2010-04-20</th>\n",
       "      <td>2.1600</td>\n",
       "    </tr>\n",
       "    <tr>\n",
       "      <th>2010-04-21</th>\n",
       "      <td>2.1500</td>\n",
       "    </tr>\n",
       "    <tr>\n",
       "      <th>2010-04-22</th>\n",
       "      <td>2.1300</td>\n",
       "    </tr>\n",
       "    <tr>\n",
       "      <th>2010-04-23</th>\n",
       "      <td>2.1300</td>\n",
       "    </tr>\n",
       "    <tr>\n",
       "      <th>...</th>\n",
       "      <td>...</td>\n",
       "    </tr>\n",
       "    <tr>\n",
       "      <th>2020-09-24</th>\n",
       "      <td>2.4275</td>\n",
       "    </tr>\n",
       "    <tr>\n",
       "      <th>2020-09-25</th>\n",
       "      <td>2.4625</td>\n",
       "    </tr>\n",
       "    <tr>\n",
       "      <th>2020-09-28</th>\n",
       "      <td>2.4400</td>\n",
       "    </tr>\n",
       "    <tr>\n",
       "      <th>2020-09-29</th>\n",
       "      <td>2.4650</td>\n",
       "    </tr>\n",
       "    <tr>\n",
       "      <th>2020-09-30</th>\n",
       "      <td>2.4800</td>\n",
       "    </tr>\n",
       "  </tbody>\n",
       "</table>\n",
       "<p>2433 rows × 1 columns</p>\n",
       "</div>"
      ],
      "text/plain": [
       "               收盘价\n",
       "日期                \n",
       "2010-04-19  2.1900\n",
       "2010-04-20  2.1600\n",
       "2010-04-21  2.1500\n",
       "2010-04-22  2.1300\n",
       "2010-04-23  2.1300\n",
       "...            ...\n",
       "2020-09-24  2.4275\n",
       "2020-09-25  2.4625\n",
       "2020-09-28  2.4400\n",
       "2020-09-29  2.4650\n",
       "2020-09-30  2.4800\n",
       "\n",
       "[2433 rows x 1 columns]"
      ]
     },
     "execution_count": 4,
     "metadata": {},
     "output_type": "execute_result"
    }
   ],
   "source": [
    "irs=pd.read_excel('IRS_ALL.xlsx',index_col=0)\n",
    "irs.index=pd.DatetimeIndex(irs.index)\n",
    "irs"
   ]
  },
  {
   "cell_type": "code",
   "execution_count": 9,
   "metadata": {},
   "outputs": [],
   "source": [
    "# df_report['发布时间']"
   ]
  },
  {
   "cell_type": "code",
   "execution_count": 50,
   "metadata": {},
   "outputs": [],
   "source": [
    "# 如果有具体小时分钟数据，才需要用到这里\n",
    "\n",
    "\n",
    "def adjusted_time(rrr_time):\n",
    "    \"\"\"\n",
    "    输入带有小时、分钟的数据，返回经过调整后的数据\n",
    "    \"\"\"\n",
    "    new_rrr_time=[]\n",
    "    one_day=datetime.timedelta(days=1)\n",
    "    for one in rrr_time:\n",
    "        t=(one[-8:])\n",
    "        one_time=(datetime.datetime.strptime(one,'%Y-%m-%d %H:%M:%S'))\n",
    "#         print(t)\n",
    "        if t>'12:00:00': # 如果时间为超过下午四点半，则记为下一交易日（没有加一天，是因为后面的irs处理会按照下一交易日处理）\n",
    "            # 这里不太对劲，根据发布时间，改为中午12点\n",
    "            new_rrr_time+=[one[:10]]\n",
    "    #         print(t+'==')\n",
    "        else: # 当前交易日\n",
    "            new_rrr_time+=[str(one_time-one_day)[:10]]\n",
    "    #         print(t)\n",
    "    new_rrr_time=list(set(new_rrr_time)) # 去掉重复时间\n",
    "    new_rrr_time.sort()\n",
    "\n",
    "    return new_rrr_time\n",
    "\n",
    "df_report=pd.read_excel('央行货币政策执行报告.xlsx')\n",
    "report_time=adjusted_time(df_report['发布时间'])"
   ]
  },
  {
   "cell_type": "code",
   "execution_count": null,
   "metadata": {},
   "outputs": [],
   "source": []
  },
  {
   "cell_type": "code",
   "execution_count": 57,
   "metadata": {},
   "outputs": [
    {
     "data": {
      "image/png": "[encoded data removed]",
      "text/plain": [
       "<Figure size 432x288 with 1 Axes>"
      ]
     },
     "metadata": {},
     "output_type": "display_data"
    },
    {
     "data": {
      "text/plain": [
       "0.05115982245099363"
      ]
     },
     "execution_count": 57,
     "metadata": {},
     "output_type": "execute_result"
    }
   ],
   "source": [
    "\n",
    "def irs_change(new_rrr_time):\n",
    "    \"\"\"\n",
    "    输入时间数据，返回IRS冲击响应\n",
    "    \"\"\"\n",
    "    change=pd.DataFrame(index=pd.Series(new_rrr_time)[pd.Series(new_rrr_time)>'2010-04-19'],columns=['t1','t0','irs1','irs0'])\n",
    "#     print(change)\n",
    "    for one in change.index:\n",
    "        # 如果当天存在（为交易日）则当天收盘价为初始irs\n",
    "        if one in irs.index.tolist():\n",
    "            t0=one\n",
    "            irs0=irs['收盘价'][one]\n",
    "        # 否则前一天为初始irs\n",
    "        else:\n",
    "            t0=irs[irs.index<one].index.max()\n",
    "            irs0=irs['收盘价'][t0]\n",
    "        # 冲击后irs为后一天irs\n",
    "        t1=(irs[irs.index>one].index.min())\n",
    "        irs1=irs['收盘价'][t1]\n",
    "\n",
    "        \n",
    "        t0,t1=str(t0)[:10],str(t1)[:10]\n",
    "#         print(one,t1,t0,irs1,irs0)\n",
    "        \n",
    "        change.loc[one]=[t1,t0,irs1,irs0]\n",
    "#         change.loc[one]=[1,2,3,4]\n",
    "\n",
    "    change['irs_change']=change['irs1']-change['irs0']\n",
    "    import re\n",
    "    # x=df['公布时间'].apply(lambda x:re.sub('[^\\x00-\\xff]','-',x)[:-1])\n",
    "#     x=new_rrr_time\n",
    "    # plt.figure(figsize=(10,7))\n",
    "    plt.bar(change.index,change['irs_change']*100)\n",
    "    plt.xticks(rotation=30)\n",
    "    \n",
    "    \n",
    "    # 下面部分为设置坐标轴刻度显示密度\n",
    "    from matplotlib.pyplot import MultipleLocator\n",
    "    x_major_locator=MultipleLocator(4)\n",
    "    #把x轴的刻度间隔设置为1，并存在变量里\n",
    "#     y_major_locator=MultipleLocator(10)\n",
    "    ax=plt.gca()\n",
    "    #ax为两条坐标轴的实例\n",
    "    ax.xaxis.set_major_locator(x_major_locator)\n",
    "    #把x轴的主刻度设置为1的倍数\n",
    "#     ax.yaxis.set_major_locator(y_major_locator)\n",
    "    #把y轴的主刻度设置为10的倍数\n",
    "    \n",
    "    \n",
    "    plt.xlabel('时间')\n",
    "    plt.ylabel('IRS冲击响应')\n",
    "\n",
    "    plt.rcParams['font.sans-serif'] = ['SimHei']\n",
    "    plt.rcParams['axes.unicode_minus'] = False\n",
    "    plt.show()\n",
    "    return change\n",
    "\n",
    "irs_change(report_time)['irs_change'].std()"
   ]
  },
  {
   "cell_type": "code",
   "execution_count": 80,
   "metadata": {},
   "outputs": [
    {
     "data": {
      "image/png": "[encoded data removed]",
      "text/plain": [
       "<Figure size 432x288 with 1 Axes>"
      ]
     },
     "metadata": {},
     "output_type": "display_data"
    },
    {
     "data": {
      "text/plain": [
       "'0.037457 0.000000 0.142500'"
      ]
     },
     "execution_count": 80,
     "metadata": {},
     "output_type": "execute_result"
    }
   ],
   "source": [
    "def mean_min_max(irs_change):\n",
    "    abss=np.abs(irs_change)\n",
    "    return '{:6f} {:6f} {:6f}'.format(abss.mean(),abss.min(),abss.max())\n",
    "    \n",
    "    \n",
    "mean_min_max(irs_change(report_time)['irs_change'])"
   ]
  },
  {
   "cell_type": "code",
   "execution_count": null,
   "metadata": {},
   "outputs": [],
   "source": []
  },
  {
   "cell_type": "code",
   "execution_count": 83,
   "metadata": {},
   "outputs": [
    {
     "data": {
      "text/plain": [
       "'0.037618 0.000000 1.340000'"
      ]
     },
     "execution_count": 83,
     "metadata": {},
     "output_type": "execute_result"
    }
   ],
   "source": [
    "mean_min_max(np.array((irs-irs.shift(1)).dropna()))"
   ]
  },
  {
   "cell_type": "code",
   "execution_count": null,
   "metadata": {},
   "outputs": [],
   "source": []
  }
 ],
 "metadata": {
  "kernelspec": {
   "display_name": "Python 3",
   "language": "python",
   "name": "python3"
  },
  "language_info": {
   "codemirror_mode": {
    "name": "ipython",
    "version": 3
   },
   "file_extension": ".py",
   "mimetype": "text/x-python",
   "name": "python",
   "nbconvert_exporter": "python",
   "pygments_lexer": "ipython3",
   "version": "3.8.5"
  }
 },
 "nbformat": 4,
 "nbformat_minor": 4
}
